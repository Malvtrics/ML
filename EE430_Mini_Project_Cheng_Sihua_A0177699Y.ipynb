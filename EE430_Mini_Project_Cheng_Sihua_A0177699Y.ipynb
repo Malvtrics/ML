{
  "nbformat": 4,
  "nbformat_minor": 0,
  "metadata": {
    "colab": {
      "name": "EE430_Mini Project_Cheng Sihua_A0177699Y.ipynb",
      "provenance": [],
      "collapsed_sections": [],
      "toc_visible": true,
      "include_colab_link": true
    },
    "kernelspec": {
      "name": "python3",
      "display_name": "Python 3"
    },
    "widgets": {
      "application/vnd.jupyter.widget-state+json": {
        "c3eccc42e7b448c6b2fce17cce7ad287": {
          "model_module": "@jupyter-widgets/controls",
          "model_name": "HBoxModel",
          "state": {
            "_view_name": "HBoxView",
            "_dom_classes": [],
            "_model_name": "HBoxModel",
            "_view_module": "@jupyter-widgets/controls",
            "_model_module_version": "1.5.0",
            "_view_count": null,
            "_view_module_version": "1.5.0",
            "box_style": "",
            "layout": "IPY_MODEL_5c9c7294f2854a5ea535ab091c2e7995",
            "_model_module": "@jupyter-widgets/controls",
            "children": [
              "IPY_MODEL_14b0641bc450421bbcb0bf3e3c6ace0a",
              "IPY_MODEL_84e084277b8445318568e57ca1559e59"
            ]
          }
        },
        "5c9c7294f2854a5ea535ab091c2e7995": {
          "model_module": "@jupyter-widgets/base",
          "model_name": "LayoutModel",
          "state": {
            "_view_name": "LayoutView",
            "grid_template_rows": null,
            "right": null,
            "justify_content": null,
            "_view_module": "@jupyter-widgets/base",
            "overflow": null,
            "_model_module_version": "1.2.0",
            "_view_count": null,
            "flex_flow": null,
            "width": null,
            "min_width": null,
            "border": null,
            "align_items": null,
            "bottom": null,
            "_model_module": "@jupyter-widgets/base",
            "top": null,
            "grid_column": null,
            "overflow_y": null,
            "overflow_x": null,
            "grid_auto_flow": null,
            "grid_area": null,
            "grid_template_columns": null,
            "flex": null,
            "_model_name": "LayoutModel",
            "justify_items": null,
            "grid_row": null,
            "max_height": null,
            "align_content": null,
            "visibility": null,
            "align_self": null,
            "height": null,
            "min_height": null,
            "padding": null,
            "grid_auto_rows": null,
            "grid_gap": null,
            "max_width": null,
            "order": null,
            "_view_module_version": "1.2.0",
            "grid_template_areas": null,
            "object_position": null,
            "object_fit": null,
            "grid_auto_columns": null,
            "margin": null,
            "display": null,
            "left": null
          }
        },
        "14b0641bc450421bbcb0bf3e3c6ace0a": {
          "model_module": "@jupyter-widgets/controls",
          "model_name": "FloatProgressModel",
          "state": {
            "_view_name": "ProgressView",
            "style": "IPY_MODEL_ebc50ccf65224ed5ab90684ff1240aaa",
            "_dom_classes": [],
            "description": "100%",
            "_model_name": "FloatProgressModel",
            "bar_style": "success",
            "max": 80000,
            "_view_module": "@jupyter-widgets/controls",
            "_model_module_version": "1.5.0",
            "value": 80000,
            "_view_count": null,
            "_view_module_version": "1.5.0",
            "orientation": "horizontal",
            "min": 0,
            "description_tooltip": null,
            "_model_module": "@jupyter-widgets/controls",
            "layout": "IPY_MODEL_1001b58b02264c338898aa1608a7bba0"
          }
        },
        "84e084277b8445318568e57ca1559e59": {
          "model_module": "@jupyter-widgets/controls",
          "model_name": "HTMLModel",
          "state": {
            "_view_name": "HTMLView",
            "style": "IPY_MODEL_932abd2d33694779b00fe9476d7cb004",
            "_dom_classes": [],
            "description": "",
            "_model_name": "HTMLModel",
            "placeholder": "​",
            "_view_module": "@jupyter-widgets/controls",
            "_model_module_version": "1.5.0",
            "value": " 80000/80000 [00:13&lt;00:00, 5927.87it/s]",
            "_view_count": null,
            "_view_module_version": "1.5.0",
            "description_tooltip": null,
            "_model_module": "@jupyter-widgets/controls",
            "layout": "IPY_MODEL_a2884410edfb4a7c86f9b4ecba9fe9c0"
          }
        },
        "ebc50ccf65224ed5ab90684ff1240aaa": {
          "model_module": "@jupyter-widgets/controls",
          "model_name": "ProgressStyleModel",
          "state": {
            "_view_name": "StyleView",
            "_model_name": "ProgressStyleModel",
            "description_width": "initial",
            "_view_module": "@jupyter-widgets/base",
            "_model_module_version": "1.5.0",
            "_view_count": null,
            "_view_module_version": "1.2.0",
            "bar_color": null,
            "_model_module": "@jupyter-widgets/controls"
          }
        },
        "1001b58b02264c338898aa1608a7bba0": {
          "model_module": "@jupyter-widgets/base",
          "model_name": "LayoutModel",
          "state": {
            "_view_name": "LayoutView",
            "grid_template_rows": null,
            "right": null,
            "justify_content": null,
            "_view_module": "@jupyter-widgets/base",
            "overflow": null,
            "_model_module_version": "1.2.0",
            "_view_count": null,
            "flex_flow": null,
            "width": null,
            "min_width": null,
            "border": null,
            "align_items": null,
            "bottom": null,
            "_model_module": "@jupyter-widgets/base",
            "top": null,
            "grid_column": null,
            "overflow_y": null,
            "overflow_x": null,
            "grid_auto_flow": null,
            "grid_area": null,
            "grid_template_columns": null,
            "flex": null,
            "_model_name": "LayoutModel",
            "justify_items": null,
            "grid_row": null,
            "max_height": null,
            "align_content": null,
            "visibility": null,
            "align_self": null,
            "height": null,
            "min_height": null,
            "padding": null,
            "grid_auto_rows": null,
            "grid_gap": null,
            "max_width": null,
            "order": null,
            "_view_module_version": "1.2.0",
            "grid_template_areas": null,
            "object_position": null,
            "object_fit": null,
            "grid_auto_columns": null,
            "margin": null,
            "display": null,
            "left": null
          }
        },
        "932abd2d33694779b00fe9476d7cb004": {
          "model_module": "@jupyter-widgets/controls",
          "model_name": "DescriptionStyleModel",
          "state": {
            "_view_name": "StyleView",
            "_model_name": "DescriptionStyleModel",
            "description_width": "",
            "_view_module": "@jupyter-widgets/base",
            "_model_module_version": "1.5.0",
            "_view_count": null,
            "_view_module_version": "1.2.0",
            "_model_module": "@jupyter-widgets/controls"
          }
        },
        "a2884410edfb4a7c86f9b4ecba9fe9c0": {
          "model_module": "@jupyter-widgets/base",
          "model_name": "LayoutModel",
          "state": {
            "_view_name": "LayoutView",
            "grid_template_rows": null,
            "right": null,
            "justify_content": null,
            "_view_module": "@jupyter-widgets/base",
            "overflow": null,
            "_model_module_version": "1.2.0",
            "_view_count": null,
            "flex_flow": null,
            "width": null,
            "min_width": null,
            "border": null,
            "align_items": null,
            "bottom": null,
            "_model_module": "@jupyter-widgets/base",
            "top": null,
            "grid_column": null,
            "overflow_y": null,
            "overflow_x": null,
            "grid_auto_flow": null,
            "grid_area": null,
            "grid_template_columns": null,
            "flex": null,
            "_model_name": "LayoutModel",
            "justify_items": null,
            "grid_row": null,
            "max_height": null,
            "align_content": null,
            "visibility": null,
            "align_self": null,
            "height": null,
            "min_height": null,
            "padding": null,
            "grid_auto_rows": null,
            "grid_gap": null,
            "max_width": null,
            "order": null,
            "_view_module_version": "1.2.0",
            "grid_template_areas": null,
            "object_position": null,
            "object_fit": null,
            "grid_auto_columns": null,
            "margin": null,
            "display": null,
            "left": null
          }
        },
        "6093836a0f9943c296d3fe5d4ea8639e": {
          "model_module": "@jupyter-widgets/controls",
          "model_name": "HBoxModel",
          "state": {
            "_view_name": "HBoxView",
            "_dom_classes": [],
            "_model_name": "HBoxModel",
            "_view_module": "@jupyter-widgets/controls",
            "_model_module_version": "1.5.0",
            "_view_count": null,
            "_view_module_version": "1.5.0",
            "box_style": "",
            "layout": "IPY_MODEL_4b167f47a42d4ae1b2878d8bf530397d",
            "_model_module": "@jupyter-widgets/controls",
            "children": [
              "IPY_MODEL_d1f3fd331d064c168da12f1f9f112be8",
              "IPY_MODEL_0f2f573504f349719e810057d348dc7f"
            ]
          }
        },
        "4b167f47a42d4ae1b2878d8bf530397d": {
          "model_module": "@jupyter-widgets/base",
          "model_name": "LayoutModel",
          "state": {
            "_view_name": "LayoutView",
            "grid_template_rows": null,
            "right": null,
            "justify_content": null,
            "_view_module": "@jupyter-widgets/base",
            "overflow": null,
            "_model_module_version": "1.2.0",
            "_view_count": null,
            "flex_flow": null,
            "width": null,
            "min_width": null,
            "border": null,
            "align_items": null,
            "bottom": null,
            "_model_module": "@jupyter-widgets/base",
            "top": null,
            "grid_column": null,
            "overflow_y": null,
            "overflow_x": null,
            "grid_auto_flow": null,
            "grid_area": null,
            "grid_template_columns": null,
            "flex": null,
            "_model_name": "LayoutModel",
            "justify_items": null,
            "grid_row": null,
            "max_height": null,
            "align_content": null,
            "visibility": null,
            "align_self": null,
            "height": null,
            "min_height": null,
            "padding": null,
            "grid_auto_rows": null,
            "grid_gap": null,
            "max_width": null,
            "order": null,
            "_view_module_version": "1.2.0",
            "grid_template_areas": null,
            "object_position": null,
            "object_fit": null,
            "grid_auto_columns": null,
            "margin": null,
            "display": null,
            "left": null
          }
        },
        "d1f3fd331d064c168da12f1f9f112be8": {
          "model_module": "@jupyter-widgets/controls",
          "model_name": "FloatProgressModel",
          "state": {
            "_view_name": "ProgressView",
            "style": "IPY_MODEL_8301a431fbf64f19abf9ba2edb397cb6",
            "_dom_classes": [],
            "description": "100%",
            "_model_name": "FloatProgressModel",
            "bar_style": "success",
            "max": 80000,
            "_view_module": "@jupyter-widgets/controls",
            "_model_module_version": "1.5.0",
            "value": 80000,
            "_view_count": null,
            "_view_module_version": "1.5.0",
            "orientation": "horizontal",
            "min": 0,
            "description_tooltip": null,
            "_model_module": "@jupyter-widgets/controls",
            "layout": "IPY_MODEL_08936eae88014d34b2b77be3a3860368"
          }
        },
        "0f2f573504f349719e810057d348dc7f": {
          "model_module": "@jupyter-widgets/controls",
          "model_name": "HTMLModel",
          "state": {
            "_view_name": "HTMLView",
            "style": "IPY_MODEL_f896662abc794b58801d8a4723dc7119",
            "_dom_classes": [],
            "description": "",
            "_model_name": "HTMLModel",
            "placeholder": "​",
            "_view_module": "@jupyter-widgets/controls",
            "_model_module_version": "1.5.0",
            "value": " 80000/80000 [00:10&lt;00:00, 7367.47it/s]",
            "_view_count": null,
            "_view_module_version": "1.5.0",
            "description_tooltip": null,
            "_model_module": "@jupyter-widgets/controls",
            "layout": "IPY_MODEL_45f4675d51be4e63a7b9018856f41085"
          }
        },
        "8301a431fbf64f19abf9ba2edb397cb6": {
          "model_module": "@jupyter-widgets/controls",
          "model_name": "ProgressStyleModel",
          "state": {
            "_view_name": "StyleView",
            "_model_name": "ProgressStyleModel",
            "description_width": "initial",
            "_view_module": "@jupyter-widgets/base",
            "_model_module_version": "1.5.0",
            "_view_count": null,
            "_view_module_version": "1.2.0",
            "bar_color": null,
            "_model_module": "@jupyter-widgets/controls"
          }
        },
        "08936eae88014d34b2b77be3a3860368": {
          "model_module": "@jupyter-widgets/base",
          "model_name": "LayoutModel",
          "state": {
            "_view_name": "LayoutView",
            "grid_template_rows": null,
            "right": null,
            "justify_content": null,
            "_view_module": "@jupyter-widgets/base",
            "overflow": null,
            "_model_module_version": "1.2.0",
            "_view_count": null,
            "flex_flow": null,
            "width": null,
            "min_width": null,
            "border": null,
            "align_items": null,
            "bottom": null,
            "_model_module": "@jupyter-widgets/base",
            "top": null,
            "grid_column": null,
            "overflow_y": null,
            "overflow_x": null,
            "grid_auto_flow": null,
            "grid_area": null,
            "grid_template_columns": null,
            "flex": null,
            "_model_name": "LayoutModel",
            "justify_items": null,
            "grid_row": null,
            "max_height": null,
            "align_content": null,
            "visibility": null,
            "align_self": null,
            "height": null,
            "min_height": null,
            "padding": null,
            "grid_auto_rows": null,
            "grid_gap": null,
            "max_width": null,
            "order": null,
            "_view_module_version": "1.2.0",
            "grid_template_areas": null,
            "object_position": null,
            "object_fit": null,
            "grid_auto_columns": null,
            "margin": null,
            "display": null,
            "left": null
          }
        },
        "f896662abc794b58801d8a4723dc7119": {
          "model_module": "@jupyter-widgets/controls",
          "model_name": "DescriptionStyleModel",
          "state": {
            "_view_name": "StyleView",
            "_model_name": "DescriptionStyleModel",
            "description_width": "",
            "_view_module": "@jupyter-widgets/base",
            "_model_module_version": "1.5.0",
            "_view_count": null,
            "_view_module_version": "1.2.0",
            "_model_module": "@jupyter-widgets/controls"
          }
        },
        "45f4675d51be4e63a7b9018856f41085": {
          "model_module": "@jupyter-widgets/base",
          "model_name": "LayoutModel",
          "state": {
            "_view_name": "LayoutView",
            "grid_template_rows": null,
            "right": null,
            "justify_content": null,
            "_view_module": "@jupyter-widgets/base",
            "overflow": null,
            "_model_module_version": "1.2.0",
            "_view_count": null,
            "flex_flow": null,
            "width": null,
            "min_width": null,
            "border": null,
            "align_items": null,
            "bottom": null,
            "_model_module": "@jupyter-widgets/base",
            "top": null,
            "grid_column": null,
            "overflow_y": null,
            "overflow_x": null,
            "grid_auto_flow": null,
            "grid_area": null,
            "grid_template_columns": null,
            "flex": null,
            "_model_name": "LayoutModel",
            "justify_items": null,
            "grid_row": null,
            "max_height": null,
            "align_content": null,
            "visibility": null,
            "align_self": null,
            "height": null,
            "min_height": null,
            "padding": null,
            "grid_auto_rows": null,
            "grid_gap": null,
            "max_width": null,
            "order": null,
            "_view_module_version": "1.2.0",
            "grid_template_areas": null,
            "object_position": null,
            "object_fit": null,
            "grid_auto_columns": null,
            "margin": null,
            "display": null,
            "left": null
          }
        },
        "ec46a96b12a8402190e55b71867b8e0b": {
          "model_module": "@jupyter-widgets/controls",
          "model_name": "HBoxModel",
          "state": {
            "_view_name": "HBoxView",
            "_dom_classes": [],
            "_model_name": "HBoxModel",
            "_view_module": "@jupyter-widgets/controls",
            "_model_module_version": "1.5.0",
            "_view_count": null,
            "_view_module_version": "1.5.0",
            "box_style": "",
            "layout": "IPY_MODEL_3cadfb57f3f240e6bc798847de34357c",
            "_model_module": "@jupyter-widgets/controls",
            "children": [
              "IPY_MODEL_42ba97a2d91c4d6aa773bbab3d46b4dd",
              "IPY_MODEL_dd27e5f23a524f46b39173847c395295"
            ]
          }
        },
        "3cadfb57f3f240e6bc798847de34357c": {
          "model_module": "@jupyter-widgets/base",
          "model_name": "LayoutModel",
          "state": {
            "_view_name": "LayoutView",
            "grid_template_rows": null,
            "right": null,
            "justify_content": null,
            "_view_module": "@jupyter-widgets/base",
            "overflow": null,
            "_model_module_version": "1.2.0",
            "_view_count": null,
            "flex_flow": null,
            "width": null,
            "min_width": null,
            "border": null,
            "align_items": null,
            "bottom": null,
            "_model_module": "@jupyter-widgets/base",
            "top": null,
            "grid_column": null,
            "overflow_y": null,
            "overflow_x": null,
            "grid_auto_flow": null,
            "grid_area": null,
            "grid_template_columns": null,
            "flex": null,
            "_model_name": "LayoutModel",
            "justify_items": null,
            "grid_row": null,
            "max_height": null,
            "align_content": null,
            "visibility": null,
            "align_self": null,
            "height": null,
            "min_height": null,
            "padding": null,
            "grid_auto_rows": null,
            "grid_gap": null,
            "max_width": null,
            "order": null,
            "_view_module_version": "1.2.0",
            "grid_template_areas": null,
            "object_position": null,
            "object_fit": null,
            "grid_auto_columns": null,
            "margin": null,
            "display": null,
            "left": null
          }
        },
        "42ba97a2d91c4d6aa773bbab3d46b4dd": {
          "model_module": "@jupyter-widgets/controls",
          "model_name": "FloatProgressModel",
          "state": {
            "_view_name": "ProgressView",
            "style": "IPY_MODEL_f0ee35e1018a4f5082298c73adfcd9ad",
            "_dom_classes": [],
            "description": "100%",
            "_model_name": "FloatProgressModel",
            "bar_style": "success",
            "max": 80000,
            "_view_module": "@jupyter-widgets/controls",
            "_model_module_version": "1.5.0",
            "value": 80000,
            "_view_count": null,
            "_view_module_version": "1.5.0",
            "orientation": "horizontal",
            "min": 0,
            "description_tooltip": null,
            "_model_module": "@jupyter-widgets/controls",
            "layout": "IPY_MODEL_87a2417243224d4fb109fda129c2bf1b"
          }
        },
        "dd27e5f23a524f46b39173847c395295": {
          "model_module": "@jupyter-widgets/controls",
          "model_name": "HTMLModel",
          "state": {
            "_view_name": "HTMLView",
            "style": "IPY_MODEL_eaf16b69f4c44a949de1006e84ad5d74",
            "_dom_classes": [],
            "description": "",
            "_model_name": "HTMLModel",
            "placeholder": "​",
            "_view_module": "@jupyter-widgets/controls",
            "_model_module_version": "1.5.0",
            "value": " 80000/80000 [00:11&lt;00:00, 6896.31it/s]",
            "_view_count": null,
            "_view_module_version": "1.5.0",
            "description_tooltip": null,
            "_model_module": "@jupyter-widgets/controls",
            "layout": "IPY_MODEL_f65b0fb472d84b3f8e603143fbcd1f5c"
          }
        },
        "f0ee35e1018a4f5082298c73adfcd9ad": {
          "model_module": "@jupyter-widgets/controls",
          "model_name": "ProgressStyleModel",
          "state": {
            "_view_name": "StyleView",
            "_model_name": "ProgressStyleModel",
            "description_width": "initial",
            "_view_module": "@jupyter-widgets/base",
            "_model_module_version": "1.5.0",
            "_view_count": null,
            "_view_module_version": "1.2.0",
            "bar_color": null,
            "_model_module": "@jupyter-widgets/controls"
          }
        },
        "87a2417243224d4fb109fda129c2bf1b": {
          "model_module": "@jupyter-widgets/base",
          "model_name": "LayoutModel",
          "state": {
            "_view_name": "LayoutView",
            "grid_template_rows": null,
            "right": null,
            "justify_content": null,
            "_view_module": "@jupyter-widgets/base",
            "overflow": null,
            "_model_module_version": "1.2.0",
            "_view_count": null,
            "flex_flow": null,
            "width": null,
            "min_width": null,
            "border": null,
            "align_items": null,
            "bottom": null,
            "_model_module": "@jupyter-widgets/base",
            "top": null,
            "grid_column": null,
            "overflow_y": null,
            "overflow_x": null,
            "grid_auto_flow": null,
            "grid_area": null,
            "grid_template_columns": null,
            "flex": null,
            "_model_name": "LayoutModel",
            "justify_items": null,
            "grid_row": null,
            "max_height": null,
            "align_content": null,
            "visibility": null,
            "align_self": null,
            "height": null,
            "min_height": null,
            "padding": null,
            "grid_auto_rows": null,
            "grid_gap": null,
            "max_width": null,
            "order": null,
            "_view_module_version": "1.2.0",
            "grid_template_areas": null,
            "object_position": null,
            "object_fit": null,
            "grid_auto_columns": null,
            "margin": null,
            "display": null,
            "left": null
          }
        },
        "eaf16b69f4c44a949de1006e84ad5d74": {
          "model_module": "@jupyter-widgets/controls",
          "model_name": "DescriptionStyleModel",
          "state": {
            "_view_name": "StyleView",
            "_model_name": "DescriptionStyleModel",
            "description_width": "",
            "_view_module": "@jupyter-widgets/base",
            "_model_module_version": "1.5.0",
            "_view_count": null,
            "_view_module_version": "1.2.0",
            "_model_module": "@jupyter-widgets/controls"
          }
        },
        "f65b0fb472d84b3f8e603143fbcd1f5c": {
          "model_module": "@jupyter-widgets/base",
          "model_name": "LayoutModel",
          "state": {
            "_view_name": "LayoutView",
            "grid_template_rows": null,
            "right": null,
            "justify_content": null,
            "_view_module": "@jupyter-widgets/base",
            "overflow": null,
            "_model_module_version": "1.2.0",
            "_view_count": null,
            "flex_flow": null,
            "width": null,
            "min_width": null,
            "border": null,
            "align_items": null,
            "bottom": null,
            "_model_module": "@jupyter-widgets/base",
            "top": null,
            "grid_column": null,
            "overflow_y": null,
            "overflow_x": null,
            "grid_auto_flow": null,
            "grid_area": null,
            "grid_template_columns": null,
            "flex": null,
            "_model_name": "LayoutModel",
            "justify_items": null,
            "grid_row": null,
            "max_height": null,
            "align_content": null,
            "visibility": null,
            "align_self": null,
            "height": null,
            "min_height": null,
            "padding": null,
            "grid_auto_rows": null,
            "grid_gap": null,
            "max_width": null,
            "order": null,
            "_view_module_version": "1.2.0",
            "grid_template_areas": null,
            "object_position": null,
            "object_fit": null,
            "grid_auto_columns": null,
            "margin": null,
            "display": null,
            "left": null
          }
        },
        "b7159af4526e4de4b05e11e321e8a145": {
          "model_module": "@jupyter-widgets/controls",
          "model_name": "HBoxModel",
          "state": {
            "_view_name": "HBoxView",
            "_dom_classes": [],
            "_model_name": "HBoxModel",
            "_view_module": "@jupyter-widgets/controls",
            "_model_module_version": "1.5.0",
            "_view_count": null,
            "_view_module_version": "1.5.0",
            "box_style": "",
            "layout": "IPY_MODEL_8c22613feb6649c79374a631fb7210f5",
            "_model_module": "@jupyter-widgets/controls",
            "children": [
              "IPY_MODEL_f859bce3453d4588bf6da61f3283119b",
              "IPY_MODEL_98f3181d155e4f27ae827b18b8e5b1b2"
            ]
          }
        },
        "8c22613feb6649c79374a631fb7210f5": {
          "model_module": "@jupyter-widgets/base",
          "model_name": "LayoutModel",
          "state": {
            "_view_name": "LayoutView",
            "grid_template_rows": null,
            "right": null,
            "justify_content": null,
            "_view_module": "@jupyter-widgets/base",
            "overflow": null,
            "_model_module_version": "1.2.0",
            "_view_count": null,
            "flex_flow": null,
            "width": null,
            "min_width": null,
            "border": null,
            "align_items": null,
            "bottom": null,
            "_model_module": "@jupyter-widgets/base",
            "top": null,
            "grid_column": null,
            "overflow_y": null,
            "overflow_x": null,
            "grid_auto_flow": null,
            "grid_area": null,
            "grid_template_columns": null,
            "flex": null,
            "_model_name": "LayoutModel",
            "justify_items": null,
            "grid_row": null,
            "max_height": null,
            "align_content": null,
            "visibility": null,
            "align_self": null,
            "height": null,
            "min_height": null,
            "padding": null,
            "grid_auto_rows": null,
            "grid_gap": null,
            "max_width": null,
            "order": null,
            "_view_module_version": "1.2.0",
            "grid_template_areas": null,
            "object_position": null,
            "object_fit": null,
            "grid_auto_columns": null,
            "margin": null,
            "display": null,
            "left": null
          }
        },
        "f859bce3453d4588bf6da61f3283119b": {
          "model_module": "@jupyter-widgets/controls",
          "model_name": "FloatProgressModel",
          "state": {
            "_view_name": "ProgressView",
            "style": "IPY_MODEL_438463702fb34a7d8bb9f3e12b95978d",
            "_dom_classes": [],
            "description": "100%",
            "_model_name": "FloatProgressModel",
            "bar_style": "success",
            "max": 10000,
            "_view_module": "@jupyter-widgets/controls",
            "_model_module_version": "1.5.0",
            "value": 10000,
            "_view_count": null,
            "_view_module_version": "1.5.0",
            "orientation": "horizontal",
            "min": 0,
            "description_tooltip": null,
            "_model_module": "@jupyter-widgets/controls",
            "layout": "IPY_MODEL_dceb539397b74e09a480312999b13347"
          }
        },
        "98f3181d155e4f27ae827b18b8e5b1b2": {
          "model_module": "@jupyter-widgets/controls",
          "model_name": "HTMLModel",
          "state": {
            "_view_name": "HTMLView",
            "style": "IPY_MODEL_3dcde25ce9a648edbac2cefd9089ff09",
            "_dom_classes": [],
            "description": "",
            "_model_name": "HTMLModel",
            "placeholder": "​",
            "_view_module": "@jupyter-widgets/controls",
            "_model_module_version": "1.5.0",
            "value": " 10000/10000 [00:02&lt;00:00, 4076.93it/s]",
            "_view_count": null,
            "_view_module_version": "1.5.0",
            "description_tooltip": null,
            "_model_module": "@jupyter-widgets/controls",
            "layout": "IPY_MODEL_e589146c199f48a0a20151f07a74610a"
          }
        },
        "438463702fb34a7d8bb9f3e12b95978d": {
          "model_module": "@jupyter-widgets/controls",
          "model_name": "ProgressStyleModel",
          "state": {
            "_view_name": "StyleView",
            "_model_name": "ProgressStyleModel",
            "description_width": "initial",
            "_view_module": "@jupyter-widgets/base",
            "_model_module_version": "1.5.0",
            "_view_count": null,
            "_view_module_version": "1.2.0",
            "bar_color": null,
            "_model_module": "@jupyter-widgets/controls"
          }
        },
        "dceb539397b74e09a480312999b13347": {
          "model_module": "@jupyter-widgets/base",
          "model_name": "LayoutModel",
          "state": {
            "_view_name": "LayoutView",
            "grid_template_rows": null,
            "right": null,
            "justify_content": null,
            "_view_module": "@jupyter-widgets/base",
            "overflow": null,
            "_model_module_version": "1.2.0",
            "_view_count": null,
            "flex_flow": null,
            "width": null,
            "min_width": null,
            "border": null,
            "align_items": null,
            "bottom": null,
            "_model_module": "@jupyter-widgets/base",
            "top": null,
            "grid_column": null,
            "overflow_y": null,
            "overflow_x": null,
            "grid_auto_flow": null,
            "grid_area": null,
            "grid_template_columns": null,
            "flex": null,
            "_model_name": "LayoutModel",
            "justify_items": null,
            "grid_row": null,
            "max_height": null,
            "align_content": null,
            "visibility": null,
            "align_self": null,
            "height": null,
            "min_height": null,
            "padding": null,
            "grid_auto_rows": null,
            "grid_gap": null,
            "max_width": null,
            "order": null,
            "_view_module_version": "1.2.0",
            "grid_template_areas": null,
            "object_position": null,
            "object_fit": null,
            "grid_auto_columns": null,
            "margin": null,
            "display": null,
            "left": null
          }
        },
        "3dcde25ce9a648edbac2cefd9089ff09": {
          "model_module": "@jupyter-widgets/controls",
          "model_name": "DescriptionStyleModel",
          "state": {
            "_view_name": "StyleView",
            "_model_name": "DescriptionStyleModel",
            "description_width": "",
            "_view_module": "@jupyter-widgets/base",
            "_model_module_version": "1.5.0",
            "_view_count": null,
            "_view_module_version": "1.2.0",
            "_model_module": "@jupyter-widgets/controls"
          }
        },
        "e589146c199f48a0a20151f07a74610a": {
          "model_module": "@jupyter-widgets/base",
          "model_name": "LayoutModel",
          "state": {
            "_view_name": "LayoutView",
            "grid_template_rows": null,
            "right": null,
            "justify_content": null,
            "_view_module": "@jupyter-widgets/base",
            "overflow": null,
            "_model_module_version": "1.2.0",
            "_view_count": null,
            "flex_flow": null,
            "width": null,
            "min_width": null,
            "border": null,
            "align_items": null,
            "bottom": null,
            "_model_module": "@jupyter-widgets/base",
            "top": null,
            "grid_column": null,
            "overflow_y": null,
            "overflow_x": null,
            "grid_auto_flow": null,
            "grid_area": null,
            "grid_template_columns": null,
            "flex": null,
            "_model_name": "LayoutModel",
            "justify_items": null,
            "grid_row": null,
            "max_height": null,
            "align_content": null,
            "visibility": null,
            "align_self": null,
            "height": null,
            "min_height": null,
            "padding": null,
            "grid_auto_rows": null,
            "grid_gap": null,
            "max_width": null,
            "order": null,
            "_view_module_version": "1.2.0",
            "grid_template_areas": null,
            "object_position": null,
            "object_fit": null,
            "grid_auto_columns": null,
            "margin": null,
            "display": null,
            "left": null
          }
        },
        "86db3a09677c452595454caf450d2465": {
          "model_module": "@jupyter-widgets/controls",
          "model_name": "HBoxModel",
          "state": {
            "_view_name": "HBoxView",
            "_dom_classes": [],
            "_model_name": "HBoxModel",
            "_view_module": "@jupyter-widgets/controls",
            "_model_module_version": "1.5.0",
            "_view_count": null,
            "_view_module_version": "1.5.0",
            "box_style": "",
            "layout": "IPY_MODEL_bc30b9d5c5194d6d9697cbf834c09668",
            "_model_module": "@jupyter-widgets/controls",
            "children": [
              "IPY_MODEL_d8efa6b71f814217990b02fc7b08dae8",
              "IPY_MODEL_72f41ef8b11a478a83c2b58369557b63"
            ]
          }
        },
        "bc30b9d5c5194d6d9697cbf834c09668": {
          "model_module": "@jupyter-widgets/base",
          "model_name": "LayoutModel",
          "state": {
            "_view_name": "LayoutView",
            "grid_template_rows": null,
            "right": null,
            "justify_content": null,
            "_view_module": "@jupyter-widgets/base",
            "overflow": null,
            "_model_module_version": "1.2.0",
            "_view_count": null,
            "flex_flow": null,
            "width": null,
            "min_width": null,
            "border": null,
            "align_items": null,
            "bottom": null,
            "_model_module": "@jupyter-widgets/base",
            "top": null,
            "grid_column": null,
            "overflow_y": null,
            "overflow_x": null,
            "grid_auto_flow": null,
            "grid_area": null,
            "grid_template_columns": null,
            "flex": null,
            "_model_name": "LayoutModel",
            "justify_items": null,
            "grid_row": null,
            "max_height": null,
            "align_content": null,
            "visibility": null,
            "align_self": null,
            "height": null,
            "min_height": null,
            "padding": null,
            "grid_auto_rows": null,
            "grid_gap": null,
            "max_width": null,
            "order": null,
            "_view_module_version": "1.2.0",
            "grid_template_areas": null,
            "object_position": null,
            "object_fit": null,
            "grid_auto_columns": null,
            "margin": null,
            "display": null,
            "left": null
          }
        },
        "d8efa6b71f814217990b02fc7b08dae8": {
          "model_module": "@jupyter-widgets/controls",
          "model_name": "FloatProgressModel",
          "state": {
            "_view_name": "ProgressView",
            "style": "IPY_MODEL_7fc441dd647d4585888c635c7ee3cd85",
            "_dom_classes": [],
            "description": "100%",
            "_model_name": "FloatProgressModel",
            "bar_style": "success",
            "max": 10000,
            "_view_module": "@jupyter-widgets/controls",
            "_model_module_version": "1.5.0",
            "value": 10000,
            "_view_count": null,
            "_view_module_version": "1.5.0",
            "orientation": "horizontal",
            "min": 0,
            "description_tooltip": null,
            "_model_module": "@jupyter-widgets/controls",
            "layout": "IPY_MODEL_628c580f743f492f9c83e6a04778af46"
          }
        },
        "72f41ef8b11a478a83c2b58369557b63": {
          "model_module": "@jupyter-widgets/controls",
          "model_name": "HTMLModel",
          "state": {
            "_view_name": "HTMLView",
            "style": "IPY_MODEL_bb76148b45904071b99334c831e597f4",
            "_dom_classes": [],
            "description": "",
            "_model_name": "HTMLModel",
            "placeholder": "​",
            "_view_module": "@jupyter-widgets/controls",
            "_model_module_version": "1.5.0",
            "value": " 10000/10000 [00:02&lt;00:00, 4395.71it/s]",
            "_view_count": null,
            "_view_module_version": "1.5.0",
            "description_tooltip": null,
            "_model_module": "@jupyter-widgets/controls",
            "layout": "IPY_MODEL_ad68833ded074d32bf0d4685cb0059cb"
          }
        },
        "7fc441dd647d4585888c635c7ee3cd85": {
          "model_module": "@jupyter-widgets/controls",
          "model_name": "ProgressStyleModel",
          "state": {
            "_view_name": "StyleView",
            "_model_name": "ProgressStyleModel",
            "description_width": "initial",
            "_view_module": "@jupyter-widgets/base",
            "_model_module_version": "1.5.0",
            "_view_count": null,
            "_view_module_version": "1.2.0",
            "bar_color": null,
            "_model_module": "@jupyter-widgets/controls"
          }
        },
        "628c580f743f492f9c83e6a04778af46": {
          "model_module": "@jupyter-widgets/base",
          "model_name": "LayoutModel",
          "state": {
            "_view_name": "LayoutView",
            "grid_template_rows": null,
            "right": null,
            "justify_content": null,
            "_view_module": "@jupyter-widgets/base",
            "overflow": null,
            "_model_module_version": "1.2.0",
            "_view_count": null,
            "flex_flow": null,
            "width": null,
            "min_width": null,
            "border": null,
            "align_items": null,
            "bottom": null,
            "_model_module": "@jupyter-widgets/base",
            "top": null,
            "grid_column": null,
            "overflow_y": null,
            "overflow_x": null,
            "grid_auto_flow": null,
            "grid_area": null,
            "grid_template_columns": null,
            "flex": null,
            "_model_name": "LayoutModel",
            "justify_items": null,
            "grid_row": null,
            "max_height": null,
            "align_content": null,
            "visibility": null,
            "align_self": null,
            "height": null,
            "min_height": null,
            "padding": null,
            "grid_auto_rows": null,
            "grid_gap": null,
            "max_width": null,
            "order": null,
            "_view_module_version": "1.2.0",
            "grid_template_areas": null,
            "object_position": null,
            "object_fit": null,
            "grid_auto_columns": null,
            "margin": null,
            "display": null,
            "left": null
          }
        },
        "bb76148b45904071b99334c831e597f4": {
          "model_module": "@jupyter-widgets/controls",
          "model_name": "DescriptionStyleModel",
          "state": {
            "_view_name": "StyleView",
            "_model_name": "DescriptionStyleModel",
            "description_width": "",
            "_view_module": "@jupyter-widgets/base",
            "_model_module_version": "1.5.0",
            "_view_count": null,
            "_view_module_version": "1.2.0",
            "_model_module": "@jupyter-widgets/controls"
          }
        },
        "ad68833ded074d32bf0d4685cb0059cb": {
          "model_module": "@jupyter-widgets/base",
          "model_name": "LayoutModel",
          "state": {
            "_view_name": "LayoutView",
            "grid_template_rows": null,
            "right": null,
            "justify_content": null,
            "_view_module": "@jupyter-widgets/base",
            "overflow": null,
            "_model_module_version": "1.2.0",
            "_view_count": null,
            "flex_flow": null,
            "width": null,
            "min_width": null,
            "border": null,
            "align_items": null,
            "bottom": null,
            "_model_module": "@jupyter-widgets/base",
            "top": null,
            "grid_column": null,
            "overflow_y": null,
            "overflow_x": null,
            "grid_auto_flow": null,
            "grid_area": null,
            "grid_template_columns": null,
            "flex": null,
            "_model_name": "LayoutModel",
            "justify_items": null,
            "grid_row": null,
            "max_height": null,
            "align_content": null,
            "visibility": null,
            "align_self": null,
            "height": null,
            "min_height": null,
            "padding": null,
            "grid_auto_rows": null,
            "grid_gap": null,
            "max_width": null,
            "order": null,
            "_view_module_version": "1.2.0",
            "grid_template_areas": null,
            "object_position": null,
            "object_fit": null,
            "grid_auto_columns": null,
            "margin": null,
            "display": null,
            "left": null
          }
        },
        "562960f854254ab799cbcfe13d5beaca": {
          "model_module": "@jupyter-widgets/controls",
          "model_name": "HBoxModel",
          "state": {
            "_view_name": "HBoxView",
            "_dom_classes": [],
            "_model_name": "HBoxModel",
            "_view_module": "@jupyter-widgets/controls",
            "_model_module_version": "1.5.0",
            "_view_count": null,
            "_view_module_version": "1.5.0",
            "box_style": "",
            "layout": "IPY_MODEL_c5b491c2c5374841b404c8a60988dc0d",
            "_model_module": "@jupyter-widgets/controls",
            "children": [
              "IPY_MODEL_480c99ea83454a2a93a88a99ba3fe220",
              "IPY_MODEL_98e4598a452e404799954a9efdaff643"
            ]
          }
        },
        "c5b491c2c5374841b404c8a60988dc0d": {
          "model_module": "@jupyter-widgets/base",
          "model_name": "LayoutModel",
          "state": {
            "_view_name": "LayoutView",
            "grid_template_rows": null,
            "right": null,
            "justify_content": null,
            "_view_module": "@jupyter-widgets/base",
            "overflow": null,
            "_model_module_version": "1.2.0",
            "_view_count": null,
            "flex_flow": null,
            "width": null,
            "min_width": null,
            "border": null,
            "align_items": null,
            "bottom": null,
            "_model_module": "@jupyter-widgets/base",
            "top": null,
            "grid_column": null,
            "overflow_y": null,
            "overflow_x": null,
            "grid_auto_flow": null,
            "grid_area": null,
            "grid_template_columns": null,
            "flex": null,
            "_model_name": "LayoutModel",
            "justify_items": null,
            "grid_row": null,
            "max_height": null,
            "align_content": null,
            "visibility": null,
            "align_self": null,
            "height": null,
            "min_height": null,
            "padding": null,
            "grid_auto_rows": null,
            "grid_gap": null,
            "max_width": null,
            "order": null,
            "_view_module_version": "1.2.0",
            "grid_template_areas": null,
            "object_position": null,
            "object_fit": null,
            "grid_auto_columns": null,
            "margin": null,
            "display": null,
            "left": null
          }
        },
        "480c99ea83454a2a93a88a99ba3fe220": {
          "model_module": "@jupyter-widgets/controls",
          "model_name": "FloatProgressModel",
          "state": {
            "_view_name": "ProgressView",
            "style": "IPY_MODEL_d5e6070207324f5f80e4c9ee1dac79c8",
            "_dom_classes": [],
            "description": "100%",
            "_model_name": "FloatProgressModel",
            "bar_style": "success",
            "max": 10000,
            "_view_module": "@jupyter-widgets/controls",
            "_model_module_version": "1.5.0",
            "value": 10000,
            "_view_count": null,
            "_view_module_version": "1.5.0",
            "orientation": "horizontal",
            "min": 0,
            "description_tooltip": null,
            "_model_module": "@jupyter-widgets/controls",
            "layout": "IPY_MODEL_30738835720e42d3a6f3f8951defd6bb"
          }
        },
        "98e4598a452e404799954a9efdaff643": {
          "model_module": "@jupyter-widgets/controls",
          "model_name": "HTMLModel",
          "state": {
            "_view_name": "HTMLView",
            "style": "IPY_MODEL_212628ea0c8f438a87e513146738ec7b",
            "_dom_classes": [],
            "description": "",
            "_model_name": "HTMLModel",
            "placeholder": "​",
            "_view_module": "@jupyter-widgets/controls",
            "_model_module_version": "1.5.0",
            "value": " 10000/10000 [00:01&lt;00:00, 8700.24it/s]",
            "_view_count": null,
            "_view_module_version": "1.5.0",
            "description_tooltip": null,
            "_model_module": "@jupyter-widgets/controls",
            "layout": "IPY_MODEL_977971476c484c7fbcad3efe1d6b5e9d"
          }
        },
        "d5e6070207324f5f80e4c9ee1dac79c8": {
          "model_module": "@jupyter-widgets/controls",
          "model_name": "ProgressStyleModel",
          "state": {
            "_view_name": "StyleView",
            "_model_name": "ProgressStyleModel",
            "description_width": "initial",
            "_view_module": "@jupyter-widgets/base",
            "_model_module_version": "1.5.0",
            "_view_count": null,
            "_view_module_version": "1.2.0",
            "bar_color": null,
            "_model_module": "@jupyter-widgets/controls"
          }
        },
        "30738835720e42d3a6f3f8951defd6bb": {
          "model_module": "@jupyter-widgets/base",
          "model_name": "LayoutModel",
          "state": {
            "_view_name": "LayoutView",
            "grid_template_rows": null,
            "right": null,
            "justify_content": null,
            "_view_module": "@jupyter-widgets/base",
            "overflow": null,
            "_model_module_version": "1.2.0",
            "_view_count": null,
            "flex_flow": null,
            "width": null,
            "min_width": null,
            "border": null,
            "align_items": null,
            "bottom": null,
            "_model_module": "@jupyter-widgets/base",
            "top": null,
            "grid_column": null,
            "overflow_y": null,
            "overflow_x": null,
            "grid_auto_flow": null,
            "grid_area": null,
            "grid_template_columns": null,
            "flex": null,
            "_model_name": "LayoutModel",
            "justify_items": null,
            "grid_row": null,
            "max_height": null,
            "align_content": null,
            "visibility": null,
            "align_self": null,
            "height": null,
            "min_height": null,
            "padding": null,
            "grid_auto_rows": null,
            "grid_gap": null,
            "max_width": null,
            "order": null,
            "_view_module_version": "1.2.0",
            "grid_template_areas": null,
            "object_position": null,
            "object_fit": null,
            "grid_auto_columns": null,
            "margin": null,
            "display": null,
            "left": null
          }
        },
        "212628ea0c8f438a87e513146738ec7b": {
          "model_module": "@jupyter-widgets/controls",
          "model_name": "DescriptionStyleModel",
          "state": {
            "_view_name": "StyleView",
            "_model_name": "DescriptionStyleModel",
            "description_width": "",
            "_view_module": "@jupyter-widgets/base",
            "_model_module_version": "1.5.0",
            "_view_count": null,
            "_view_module_version": "1.2.0",
            "_model_module": "@jupyter-widgets/controls"
          }
        },
        "977971476c484c7fbcad3efe1d6b5e9d": {
          "model_module": "@jupyter-widgets/base",
          "model_name": "LayoutModel",
          "state": {
            "_view_name": "LayoutView",
            "grid_template_rows": null,
            "right": null,
            "justify_content": null,
            "_view_module": "@jupyter-widgets/base",
            "overflow": null,
            "_model_module_version": "1.2.0",
            "_view_count": null,
            "flex_flow": null,
            "width": null,
            "min_width": null,
            "border": null,
            "align_items": null,
            "bottom": null,
            "_model_module": "@jupyter-widgets/base",
            "top": null,
            "grid_column": null,
            "overflow_y": null,
            "overflow_x": null,
            "grid_auto_flow": null,
            "grid_area": null,
            "grid_template_columns": null,
            "flex": null,
            "_model_name": "LayoutModel",
            "justify_items": null,
            "grid_row": null,
            "max_height": null,
            "align_content": null,
            "visibility": null,
            "align_self": null,
            "height": null,
            "min_height": null,
            "padding": null,
            "grid_auto_rows": null,
            "grid_gap": null,
            "max_width": null,
            "order": null,
            "_view_module_version": "1.2.0",
            "grid_template_areas": null,
            "object_position": null,
            "object_fit": null,
            "grid_auto_columns": null,
            "margin": null,
            "display": null,
            "left": null
          }
        },
        "ee721ab011b34bbf9477caf04668b2db": {
          "model_module": "@jupyter-widgets/controls",
          "model_name": "HBoxModel",
          "state": {
            "_view_name": "HBoxView",
            "_dom_classes": [],
            "_model_name": "HBoxModel",
            "_view_module": "@jupyter-widgets/controls",
            "_model_module_version": "1.5.0",
            "_view_count": null,
            "_view_module_version": "1.5.0",
            "box_style": "",
            "layout": "IPY_MODEL_b806a0adcf984e128582cd3fe173b154",
            "_model_module": "@jupyter-widgets/controls",
            "children": [
              "IPY_MODEL_daffacea28fb44d0814790bc3b05c525",
              "IPY_MODEL_616f8f10d7a54f81a2ac58ea22b1b0dc"
            ]
          }
        },
        "b806a0adcf984e128582cd3fe173b154": {
          "model_module": "@jupyter-widgets/base",
          "model_name": "LayoutModel",
          "state": {
            "_view_name": "LayoutView",
            "grid_template_rows": null,
            "right": null,
            "justify_content": null,
            "_view_module": "@jupyter-widgets/base",
            "overflow": null,
            "_model_module_version": "1.2.0",
            "_view_count": null,
            "flex_flow": null,
            "width": null,
            "min_width": null,
            "border": null,
            "align_items": null,
            "bottom": null,
            "_model_module": "@jupyter-widgets/base",
            "top": null,
            "grid_column": null,
            "overflow_y": null,
            "overflow_x": null,
            "grid_auto_flow": null,
            "grid_area": null,
            "grid_template_columns": null,
            "flex": null,
            "_model_name": "LayoutModel",
            "justify_items": null,
            "grid_row": null,
            "max_height": null,
            "align_content": null,
            "visibility": null,
            "align_self": null,
            "height": null,
            "min_height": null,
            "padding": null,
            "grid_auto_rows": null,
            "grid_gap": null,
            "max_width": null,
            "order": null,
            "_view_module_version": "1.2.0",
            "grid_template_areas": null,
            "object_position": null,
            "object_fit": null,
            "grid_auto_columns": null,
            "margin": null,
            "display": null,
            "left": null
          }
        },
        "daffacea28fb44d0814790bc3b05c525": {
          "model_module": "@jupyter-widgets/controls",
          "model_name": "FloatProgressModel",
          "state": {
            "_view_name": "ProgressView",
            "style": "IPY_MODEL_fc0e7a65b9c846f186109dbc489a8d3f",
            "_dom_classes": [],
            "description": "100%",
            "_model_name": "FloatProgressModel",
            "bar_style": "success",
            "max": 5000,
            "_view_module": "@jupyter-widgets/controls",
            "_model_module_version": "1.5.0",
            "value": 5000,
            "_view_count": null,
            "_view_module_version": "1.5.0",
            "orientation": "horizontal",
            "min": 0,
            "description_tooltip": null,
            "_model_module": "@jupyter-widgets/controls",
            "layout": "IPY_MODEL_ac9f90f12da548dfa742c434d562d677"
          }
        },
        "616f8f10d7a54f81a2ac58ea22b1b0dc": {
          "model_module": "@jupyter-widgets/controls",
          "model_name": "HTMLModel",
          "state": {
            "_view_name": "HTMLView",
            "style": "IPY_MODEL_1140ea5ee3ee4c3e86feb0979c0fce5a",
            "_dom_classes": [],
            "description": "",
            "_model_name": "HTMLModel",
            "placeholder": "​",
            "_view_module": "@jupyter-widgets/controls",
            "_model_module_version": "1.5.0",
            "value": " 5000/5000 [00:08&lt;00:00, 605.53it/s]",
            "_view_count": null,
            "_view_module_version": "1.5.0",
            "description_tooltip": null,
            "_model_module": "@jupyter-widgets/controls",
            "layout": "IPY_MODEL_9483f41e132c44d7ada4732fb9519346"
          }
        },
        "fc0e7a65b9c846f186109dbc489a8d3f": {
          "model_module": "@jupyter-widgets/controls",
          "model_name": "ProgressStyleModel",
          "state": {
            "_view_name": "StyleView",
            "_model_name": "ProgressStyleModel",
            "description_width": "initial",
            "_view_module": "@jupyter-widgets/base",
            "_model_module_version": "1.5.0",
            "_view_count": null,
            "_view_module_version": "1.2.0",
            "bar_color": null,
            "_model_module": "@jupyter-widgets/controls"
          }
        },
        "ac9f90f12da548dfa742c434d562d677": {
          "model_module": "@jupyter-widgets/base",
          "model_name": "LayoutModel",
          "state": {
            "_view_name": "LayoutView",
            "grid_template_rows": null,
            "right": null,
            "justify_content": null,
            "_view_module": "@jupyter-widgets/base",
            "overflow": null,
            "_model_module_version": "1.2.0",
            "_view_count": null,
            "flex_flow": null,
            "width": null,
            "min_width": null,
            "border": null,
            "align_items": null,
            "bottom": null,
            "_model_module": "@jupyter-widgets/base",
            "top": null,
            "grid_column": null,
            "overflow_y": null,
            "overflow_x": null,
            "grid_auto_flow": null,
            "grid_area": null,
            "grid_template_columns": null,
            "flex": null,
            "_model_name": "LayoutModel",
            "justify_items": null,
            "grid_row": null,
            "max_height": null,
            "align_content": null,
            "visibility": null,
            "align_self": null,
            "height": null,
            "min_height": null,
            "padding": null,
            "grid_auto_rows": null,
            "grid_gap": null,
            "max_width": null,
            "order": null,
            "_view_module_version": "1.2.0",
            "grid_template_areas": null,
            "object_position": null,
            "object_fit": null,
            "grid_auto_columns": null,
            "margin": null,
            "display": null,
            "left": null
          }
        },
        "1140ea5ee3ee4c3e86feb0979c0fce5a": {
          "model_module": "@jupyter-widgets/controls",
          "model_name": "DescriptionStyleModel",
          "state": {
            "_view_name": "StyleView",
            "_model_name": "DescriptionStyleModel",
            "description_width": "",
            "_view_module": "@jupyter-widgets/base",
            "_model_module_version": "1.5.0",
            "_view_count": null,
            "_view_module_version": "1.2.0",
            "_model_module": "@jupyter-widgets/controls"
          }
        },
        "9483f41e132c44d7ada4732fb9519346": {
          "model_module": "@jupyter-widgets/base",
          "model_name": "LayoutModel",
          "state": {
            "_view_name": "LayoutView",
            "grid_template_rows": null,
            "right": null,
            "justify_content": null,
            "_view_module": "@jupyter-widgets/base",
            "overflow": null,
            "_model_module_version": "1.2.0",
            "_view_count": null,
            "flex_flow": null,
            "width": null,
            "min_width": null,
            "border": null,
            "align_items": null,
            "bottom": null,
            "_model_module": "@jupyter-widgets/base",
            "top": null,
            "grid_column": null,
            "overflow_y": null,
            "overflow_x": null,
            "grid_auto_flow": null,
            "grid_area": null,
            "grid_template_columns": null,
            "flex": null,
            "_model_name": "LayoutModel",
            "justify_items": null,
            "grid_row": null,
            "max_height": null,
            "align_content": null,
            "visibility": null,
            "align_self": null,
            "height": null,
            "min_height": null,
            "padding": null,
            "grid_auto_rows": null,
            "grid_gap": null,
            "max_width": null,
            "order": null,
            "_view_module_version": "1.2.0",
            "grid_template_areas": null,
            "object_position": null,
            "object_fit": null,
            "grid_auto_columns": null,
            "margin": null,
            "display": null,
            "left": null
          }
        }
      }
    }
  },
  "cells": [
    {
      "cell_type": "markdown",
      "metadata": {
        "id": "view-in-github",
        "colab_type": "text"
      },
      "source": [
        "<a href=\"https://colab.research.google.com/github/Malvtrics/ML/blob/master/EE430_Mini_Project_Cheng_Sihua_A0177699Y.ipynb\" target=\"_parent\"><img src=\"https://colab.research.google.com/assets/colab-badge.svg\" alt=\"Open In Colab\"/></a>"
      ]
    },
    {
      "cell_type": "markdown",
      "metadata": {
        "id": "_0SzgnFlkU0L",
        "colab_type": "text"
      },
      "source": [
        "### Introduction\n",
        "\n",
        "In this project we will implement a neural network (NN) architecture from scratch. Building the neural network will give a hands-on experience converting mathematical foundations of NN such as feed-forward and backpropagation algorithms into Python code. The project will also include implementation of sub-functions in NN such as loss functions, activation functions, and derivatives.\n",
        "\n",
        "The model implemented will be tested on following examples:\n",
        "\n",
        "#### Classification:\n",
        "\n",
        "1. AND/OR Logic\n",
        "2. XOR Logic\n",
        "\n",
        "#### Regression:\n",
        "\n",
        "1. Sinusoidal curve\n",
        "2. Gaussian curve\n",
        "\n",
        "The model will be evaluated on real world data using the Wisconsin Breast Cancer Dataset. \n",
        "\n",
        "\n",
        "\n"
      ]
    },
    {
      "cell_type": "markdown",
      "metadata": {
        "id": "TJMvqyqgplyu",
        "colab_type": "text"
      },
      "source": [
        "### Problem Description\n",
        "\n",
        "You are provided with a base Class for implementation of a simple Neural Network. You will also be provided with templates for some of the helper functions. You are required to implement functions in the Neural Network Class. You are also required to test your neural network with various datasets and show the effect of modifying parameters. Below is a list of problems that you are expected to solve in this Project:\n",
        "\n",
        "1. Complete the implementation of Feedforward and Backpropagation\n",
        "2. Implement functions for train, predict, and evaluate\n",
        "3. Generate datasets for AND, XOR logics and Sinusoidal, Gaussian functions\n",
        "4. Test your model using the above datasets. What are you choice of model parameters and how does it affect the performance?\n",
        "5. Implement functions to improve model performance. What are your observations\n",
        "6. Evaluate model performance on Wisconsin Breast Cancer dataset. What is the highest accuracy score obtained?"
      ]
    },
    {
      "cell_type": "markdown",
      "metadata": {
        "id": "HBZe_HR5tvba",
        "colab_type": "text"
      },
      "source": [
        "### Notes\n",
        "\n",
        "1. Only following Python libraries (and their functions) are allowed: **numpy, pandas, matplotlib, seaborn.** (The code provided include the use of sklearn library for loading data, evaluation, and TSNE encoding. Do not load any other functions from sklearn.)\n",
        "2. Following libraries from Python may not be used: **Keras, TensorFlow, pytorch, thean, scikit-learn (except functions that are already included)**\n",
        "3. You may refer to online resources but do not copy+paste. All submitted items will be checked for Plagiarism.\n",
        "4. The base class provided is for your reference. You are welcome to implement the NN algorithm differently. In that case, ensure that your implementation covers all the sub-problems. Also explain your methodology."
      ]
    },
    {
      "cell_type": "markdown",
      "metadata": {
        "id": "XV9SOKLRuQcp",
        "colab_type": "text"
      },
      "source": [
        "### Import Libraries\n",
        "\n",
        "* numpy, pandas - Data handling and processing\n",
        "* matplotlib, seaborn - Visualization\n",
        "* tqdm - For implementing progressbars\n",
        "* sklearn - datasets: to load breast cancer dataset, TSNE: for visualization\n"
      ]
    },
    {
      "cell_type": "code",
      "metadata": {
        "id": "bBkrzmUuvM5m",
        "colab_type": "code",
        "colab": {}
      },
      "source": [
        "# Imports\n",
        "import numpy as np\n",
        "from tqdm.notebook import tqdm\n",
        "import matplotlib.pyplot as plt\n",
        "import seaborn as sns\n",
        "import random\n",
        "np.random.seed(2020)"
      ],
      "execution_count": 0,
      "outputs": []
    },
    {
      "cell_type": "code",
      "metadata": {
        "id": "Z5v8T_hZm9M2",
        "colab_type": "code",
        "outputId": "a841ad7c-02f3-4cd5-bc37-335c785e6eb2",
        "colab": {
          "base_uri": "https://localhost:8080/",
          "height": 88
        }
      },
      "source": [
        "print(np.random.random(10))\n",
        "print(np.random.random(10))"
      ],
      "execution_count": 0,
      "outputs": [
        {
          "output_type": "stream",
          "text": [
            "[0.98627683 0.87339195 0.50974552 0.27183571 0.33691873 0.21695427\n",
            " 0.27647714 0.34331559 0.86215894 0.15669967]\n",
            "[0.14088724 0.75708028 0.73632492 0.35566309 0.34109302 0.66680305\n",
            " 0.21710064 0.56142698 0.12417878 0.31973648]\n"
          ],
          "name": "stdout"
        }
      ]
    },
    {
      "cell_type": "code",
      "metadata": {
        "id": "ak2MWao3m9z0",
        "colab_type": "code",
        "outputId": "52c292e0-8b18-42e4-8af0-f52243db6b8d",
        "colab": {
          "base_uri": "https://localhost:8080/",
          "height": 88
        }
      },
      "source": [
        "print(np.random.RandomState(seed=30).random(10))\n",
        "print(np.random.RandomState(seed=20).random(10))"
      ],
      "execution_count": 0,
      "outputs": [
        {
          "output_type": "stream",
          "text": [
            "[0.64414354 0.38074849 0.66304791 0.16365073 0.96260781 0.34666184\n",
            " 0.99175099 0.2350579  0.58569427 0.4066901 ]\n",
            "[0.5881308  0.89771373 0.89153073 0.81583748 0.03588959 0.69175758\n",
            " 0.37868094 0.51851095 0.65795147 0.19385022]\n"
          ],
          "name": "stdout"
        }
      ]
    },
    {
      "cell_type": "code",
      "metadata": {
        "id": "DWHPKoZ1nBo8",
        "colab_type": "code",
        "outputId": "a6a146b1-4adf-4622-a689-bfd022749b5c",
        "colab": {
          "base_uri": "https://localhost:8080/",
          "height": 52
        }
      },
      "source": [
        "print(np.random.RandomState(20).random(10))"
      ],
      "execution_count": 0,
      "outputs": [
        {
          "output_type": "stream",
          "text": [
            "[0.5881308  0.89771373 0.89153073 0.81583748 0.03588959 0.69175758\n",
            " 0.37868094 0.51851095 0.65795147 0.19385022]\n"
          ],
          "name": "stdout"
        }
      ]
    },
    {
      "cell_type": "markdown",
      "metadata": {
        "id": "6mJwuofS3ski",
        "colab_type": "text"
      },
      "source": [
        "### Phase 1: Implement and test a baseline Neural Network"
      ]
    },
    {
      "cell_type": "markdown",
      "metadata": {
        "id": "hdSftjSfKpTM",
        "colab_type": "text"
      },
      "source": [
        "#### 1.1 Activation functions and derivatives\n",
        "\n",
        "In the below cell we define sigmoid activation function and its derivative"
      ]
    },
    {
      "cell_type": "code",
      "metadata": {
        "id": "JsPEK7Pp8FiG",
        "colab_type": "code",
        "colab": {}
      },
      "source": [
        "# Activation function\n",
        "def sigmoid(t):\n",
        "    return 1/(1+np.exp(-t))\n",
        "\n",
        "# Derivative of sigmoid\n",
        "def sigmoid_derivative(p):\n",
        "    return p * (1 - p)\n",
        "\n",
        "# Activation function\n",
        "# def relu(t):\n",
        "#     return \n",
        "\n",
        "# Derivative of relu\n",
        "# def relu_derivative(p):\n",
        "#     return "
      ],
      "execution_count": 0,
      "outputs": []
    },
    {
      "cell_type": "markdown",
      "metadata": {
        "id": "ybW08fHHDfaj",
        "colab_type": "text"
      },
      "source": [
        "#### 1.2 Loss functions and derivatives\n",
        "\n",
        "In the below cell we define rmse loss function and its derivative"
      ]
    },
    {
      "cell_type": "code",
      "metadata": {
        "id": "a47PIQ8yDfJm",
        "colab_type": "code",
        "colab": {}
      },
      "source": [
        "def rmse(y, ypred):\n",
        "    return np.sqrt(np.mean((y - ypred)**2))\n",
        "\n",
        "# Loss function derivative - RMSE\n",
        "def rmse_derivative(y, ypred):\n",
        "    return 2*(y - ypred)\n"
      ],
      "execution_count": 0,
      "outputs": []
    },
    {
      "cell_type": "markdown",
      "metadata": {
        "id": "LcF4O0iwCICj",
        "colab_type": "text"
      },
      "source": [
        "#### 1.3 Base Class\n",
        "\n",
        "Below is the base class implementation for Neural Network. Please add code whereever it reads **Write your code here**"
      ]
    },
    {
      "cell_type": "code",
      "metadata": {
        "id": "ORNkfSoNvbWy",
        "colab_type": "code",
        "colab": {}
      },
      "source": [
        "# Class definition\n",
        "class NeuralNetwork:\n",
        "    def __init__(self, x, y, hidden_nodes, learning_rate):\n",
        "        \"\"\"\n",
        "        Class initializer. Loads the value of input data and initializes weights\n",
        "\n",
        "        Parameters:\n",
        "        x: input data\n",
        "        y: ground truth label\n",
        "\n",
        "        Sets class parameters:\n",
        "        self.x = input data\n",
        "        self.y = ground truth label\n",
        "        self.ypred = initialize prediction variable with zeros as the same shape as ground truth\n",
        "\n",
        "        self.weights = weights for each layer\n",
        "        self.bias = bias for each layer\n",
        "\n",
        "        self.hidden_nodes = number of nodes in the hidden layer\n",
        "        \"\"\"\n",
        "\n",
        "        self.x = x\n",
        "        self.y = y\n",
        "        self.ypred = np.zeros(y.shape)\n",
        "\n",
        "        self.hidden_nodes = hidden_nodes\n",
        "        \n",
        "        self.weights1 = np.random.rand(self.x.shape[1], self.hidden_nodes)\n",
        "        self.weights2 = np.random.rand(self.hidden_nodes, 1)\n",
        "\n",
        "        self.bias1 = np.random.rand(self.hidden_nodes)\n",
        "        self.bias2 = np.random.rand(1)\n",
        "\n",
        "        self.lr = learning_rate\n",
        "        \n",
        "        \n",
        "    def feedforward(self):\n",
        "        \"\"\"\n",
        "        Perform feedforward operation: input -> layer1 -> layer2\n",
        "        \n",
        "        HINT:\n",
        "        layer1 = activation(weight1<dot>x + bias1)\n",
        "        layer2 = activation(weight2<dot>x + bias2)\n",
        "\n",
        "        For example: self.layer1 = sigmoid(np.dot(self.x, self.weights1) + self.bias1)\n",
        "\n",
        "        Parameters:\n",
        "        x: input data\n",
        "        y: ground truth label\n",
        "\n",
        "        Return:\n",
        "        self.layer2: The output from layer2\n",
        "        \"\"\"\n",
        "\n",
        "        # Write your code here\n",
        "        self.layer1 = sigmoid(np.dot(self.x, self.weights1) + self.bias1)\n",
        "        self.layer2 = sigmoid(np.dot(self.layer1, self.weights2) + self.bias2)\n",
        "        #self.layer1 = sigmoid(np.dot(self.x, self.weights1))\n",
        "        #self.layer2 = sigmoid(np.dot(self.layer1, self.weights2))\n",
        "        return self.layer2\n",
        "        \n",
        "    def backprop(self):\n",
        "        \"\"\"\n",
        "        Perform backpropagation to update weights and bias: loss -> layer2 -> layer1\n",
        "        \n",
        "        HINT:\n",
        "        d_loss = derivative of loss (example rmse_derivative)\n",
        "        d_weights2 = layer1_out <dot> d_loss*d_activation\n",
        "        d_bias2 = I <dot> d_loss*d_activation\n",
        "\n",
        "        repeat for d_weights1 and d_bias1\n",
        "\n",
        "        Update weights and bias based on the error and learning rate\n",
        "\n",
        "        Updates:\n",
        "        Model weights and biases\n",
        "        \"\"\"\n",
        "        d_loss = rmse_derivative(self.y,self.ypred)\n",
        "        # print(\"d_loss is {}\".format(d_loss))\n",
        "        # Write your code here\n",
        "        # compute gradients\n",
        "        delta = d_loss * sigmoid_derivative(self.ypred)  # (4,1)m(4,1)=(4,1)\n",
        "        #print(\"delta is {},shape is {}\".format(delta,delta.shape))\n",
        "        d_weights2 = np.dot(self.layer1.T, delta)  # (3,4)d(4,1)=(3,1)\n",
        "        #print(\"d_weights2 is {},shape is {}\".format(d_weights2,d_weights2.shape))\n",
        "        #print(np.ones(1,self.x.shape[0]).shape)\n",
        "        #print(delta.shape)\n",
        "        d_bias2 = np.mean(np.dot(np.ones((1,self.x.shape[0])), delta)) # (1,4)d(4,1)=(1,1)=>(1,)\n",
        "        #print(\"d_bias2 is {}\".format(d_bias2))\n",
        "\n",
        "        delta = self.weights2.T*sigmoid_derivative(self.layer1)*delta #(1,3)m(4,3)m(4,1)=(4,3)\n",
        "        d_weights1 = np.dot(self.x.T, delta)  #(2,4)d(4,3)=(2,3)\n",
        "        d_bias1 = np.mean(delta,0)  #(1,4)d(4,3)=(1,3)=>(3,)\n",
        "        #print(\"d_bias1 is {}\".format(d_bias1))\n",
        "\n",
        "        # update parameters\n",
        "        self.weights1 += self.lr * d_weights1\n",
        "        self.weights2 += self.lr * d_weights2\n",
        "\n",
        "        self.bias1 += self.lr * d_bias1\n",
        "        self.bias2 += self.lr * d_bias2\n",
        "\n",
        "    def train(self, x, y):\n",
        "        \"\"\"\n",
        "        Train the model based on training data passed as input\n",
        "        \n",
        "        HINT:\n",
        "        Training involves two steps:\n",
        "        output <- feedforward\n",
        "        update_weights <- backpropagate\n",
        "\n",
        "        Parameters:\n",
        "        x: input data\n",
        "        y: ground truth label\n",
        "\n",
        "        Return: NONE\n",
        "\n",
        "        Updates: prediction self.ypred\n",
        "        \"\"\"\n",
        "        self.x = x\n",
        "        self.y = y\n",
        "\n",
        "        # Write your code here\n",
        "        # predict\n",
        "\n",
        "        #print(\"----forward start----\")\n",
        "        self.ypred = self.feedforward()\n",
        "        #print(\"----forward end----\")\n",
        "        #print(\"----backprop start---\")\n",
        "        # backpropagate\n",
        "        self.backprop()\n",
        "        #print(\"----backprop end---\")\n",
        "    \n",
        "    def predict(self, x):\n",
        "        \"\"\"\n",
        "        Predict the outcome for the given input using current model\n",
        "        \n",
        "        HINT:\n",
        "        For prediction output is obtained by performing feedforward\n",
        "\n",
        "        Parameters:\n",
        "        x: input data\n",
        "\n",
        "        Return: output prediction using the model (self.ypred)\n",
        "        \"\"\"\n",
        "        self.x = x\n",
        "\n",
        "        # Write your code here\n",
        "\n",
        "        self.ypred = self.feedforward()\n",
        "        return self.ypred\n",
        "\n",
        "    def evaluate(self, y, ypred):\n",
        "        \"\"\"\n",
        "        Compute the error for given ground truth and prediction obtained\n",
        "        \n",
        "        HINT:\n",
        "        Training involves two steps:\n",
        "        output <- feedforward\n",
        "        update_weights <- backpropagate\n",
        "\n",
        "        Parameters:\n",
        "        y: ground truth\n",
        "        ypred: output prediction\n",
        "\n",
        "        Return: prediction error self.loss\n",
        "        \"\"\"\n",
        "        self.y = y\n",
        "        self.ypred = ypred\n",
        "\n",
        "        # write your code here\n",
        "        self.loss = rmse(self.y, self.ypred)\n",
        "        return self.loss"
      ],
      "execution_count": 0,
      "outputs": []
    },
    {
      "cell_type": "markdown",
      "metadata": {
        "id": "4lI0tPXhJiab",
        "colab_type": "text"
      },
      "source": [
        "#### 1.4 Backpropagation Algorithm\n",
        "\n",
        "<img src=\"https://miro.medium.com/max/1742/1*FceBJSJ7j8jHjb4TmLV0Ew.png\" width=\"600\" />\n",
        "\n",
        "Based on your code (The base NN class, activation, and loss functions) please explain how backpropagation works. Consider to explain the original algorithm and your code flow. Feel free to use mathematical equations, images, code outputs for your explanation.\n",
        "\n",
        "You may consider the following reference:\n",
        "\n",
        "1.   [BP Algorithm Implementation](http://www.adeveloperdiary.com/data-science/machine-learning/understand-and-implement-the-backpropagation-algorithm-from-scratch-in-python/)\n",
        "2.   [How BP Algorithm works](http://neuralnetworksanddeeplearning.com/chap2.html)\n",
        "\n"
      ]
    },
    {
      "cell_type": "markdown",
      "metadata": {
        "id": "QG6-NBkyxxL_",
        "colab_type": "text"
      },
      "source": [
        "##### 1.4.1 How it works\n",
        "\n",
        "According to the picture above, when  calculate the weight contribution to the final loss,  will calculate the derivatives chain. \n",
        "\n",
        "1. The first derivative  calculate is the derivative of the loss function, in my code , it is :\n",
        "\n",
        "```\n",
        "d_loss = rmse_derivative(self.y,self.ypred)\n",
        "```\n",
        "\n",
        "+ the shape for it is (4,1) taking our XOR example\n",
        "\n",
        "2. Then need to calculate the derivative of the activation functions, in my code, it is:\n",
        "\n",
        "```\n",
        "delta = d_loss * sigmoid_derivative(self.ypred)\n",
        "```\n",
        "\n",
        "+ this delta means error contributions in each layer and the shape is (4,1)\n",
        "\n",
        "3. Then step is to calculte the derivative of ypred to the weight of layer we concerned, this can be easily got by the output of the previous layer , so here the d_weights use the value of self.layer1 \n",
        "\n",
        "```\n",
        "d_weights2 = np.dot(self.layer1.T, delta)  \n",
        "```\n",
        "+ same to the bias but normally  don't care of it much\n",
        "\n",
        "```\n",
        "d_bias2 = np.mean(np.dot(np.ones((1,self.x.shape[0])), delta)) \n",
        "```\n",
        "\n",
        "+ when it comes to weight1 ,things become interested, not only need to calculate the derivative of activations in layer1 , but also need to use delta value from layer2 due to the derivative chain \n",
        "\n",
        "```\n",
        "delta = self.weights2.T * sigmoid_derivative(self.layer1) * delta \n",
        "```\n",
        "\n",
        "  + this means the loss delta in each layer eg:layer L depends on layer L+1\n",
        "  + so can get the following:\n",
        "\n",
        "```\n",
        "d_weights1 = np.dot(self.x.T, delta) \n",
        "d_bias1 = np.mean(delta,0)\n",
        "```\n",
        "\n",
        "4. Fianlly  need to update the parameters layer by layer\n",
        "```\n",
        "self.weights1 += self.lr * d_weights1\n",
        "self.weights2 += self.lr * d_weights2\n",
        "self.bias1 += self.lr * d_bias1\n",
        "self.bias2 += self.lr * d_bias2\n",
        "```"
      ]
    },
    {
      "cell_type": "markdown",
      "metadata": {
        "id": "w-9Zq3k-Pbx0",
        "colab_type": "text"
      },
      "source": [
        "#### 1.5: Classification Test\n",
        "\n",
        "Setup data for AND logic and XOR logic. Train the model and observe if the model is able to correctly classify\n",
        "\n",
        "For AND Logic:\n",
        "\n",
        "| x | x | y |\n",
        "|---|---|---|\n",
        "| 0 | 0 | 0 |\n",
        "| 0 | 1 | 0 |\n",
        "| 1 | 0 | 0 |\n",
        "| 1 | 1 | 1 |\n",
        "\n",
        "For XOR Logic:\n",
        "\n",
        "| x | x | y |\n",
        "|---|---|---|\n",
        "| 0 | 0 | 0 |\n",
        "| 0 | 1 | 1 |\n",
        "| 1 | 0 | 1 |\n",
        "| 1 | 1 | 0 |\n",
        "\n",
        "\n"
      ]
    },
    {
      "cell_type": "markdown",
      "metadata": {
        "id": "_mZcc-bSRwrQ",
        "colab_type": "text"
      },
      "source": [
        "##### 1.5.1 Initialization"
      ]
    },
    {
      "cell_type": "code",
      "metadata": {
        "id": "TwKcX08qLdT0",
        "colab_type": "code",
        "colab": {}
      },
      "source": [
        "# Each row is a training example, each column is a feature\n",
        "x = np.array(([0, 0], [0,1], [1,0], [1,1]), dtype=float)\n",
        "y = np.array(([0], [0], [0], [1]), dtype=float)\n",
        "\n",
        "#x = np.array(([0, 0], [0,1], [1,0], [1,1]), dtype=float)\n",
        "#y = np.array(([0], [1], [1], [0]), dtype=float)\n",
        "\n",
        "hidden_nodes = 8\n",
        "learning_rate = 0.01\n",
        "\n",
        "NN = NeuralNetwork(x, y, hidden_nodes, learning_rate)\n",
        "# print (\"Input : \\n\" + str(x))\n",
        "# print (\"Actual Output: \\n\" + str(y))"
      ],
      "execution_count": 0,
      "outputs": []
    },
    {
      "cell_type": "markdown",
      "metadata": {
        "id": "A5-21Y-kR1NR",
        "colab_type": "text"
      },
      "source": [
        "##### 1.5.2 Train model"
      ]
    },
    {
      "cell_type": "code",
      "metadata": {
        "id": "V-8pVV5HLmjS",
        "colab_type": "code",
        "outputId": "be8bd449-4ae3-4b8f-f63e-dcb2d0460c93",
        "colab": {
          "base_uri": "https://localhost:8080/",
          "height": 67,
          "referenced_widgets": [
            "c3eccc42e7b448c6b2fce17cce7ad287",
            "5c9c7294f2854a5ea535ab091c2e7995",
            "14b0641bc450421bbcb0bf3e3c6ace0a",
            "84e084277b8445318568e57ca1559e59",
            "ebc50ccf65224ed5ab90684ff1240aaa",
            "1001b58b02264c338898aa1608a7bba0",
            "932abd2d33694779b00fe9476d7cb004",
            "a2884410edfb4a7c86f9b4ecba9fe9c0"
          ]
        }
      },
      "source": [
        "loss = []\n",
        "epochs = 80000\n",
        "\n",
        "#tqdm generates a progress bar\n",
        "for i in tqdm(range(epochs)):\n",
        "  loss.append(NN.evaluate(NN.y, NN.ypred))\n",
        "  # if i<100:\n",
        "  #   print('epoch {} , losss {}'.format(i,loss[i]))\n",
        "  NN.train(x, y)"
      ],
      "execution_count": 0,
      "outputs": [
        {
          "output_type": "display_data",
          "data": {
            "application/vnd.jupyter.widget-view+json": {
              "model_id": "c3eccc42e7b448c6b2fce17cce7ad287",
              "version_minor": 0,
              "version_major": 2
            },
            "text/plain": [
              "HBox(children=(FloatProgress(value=0.0, max=80000.0), HTML(value='')))"
            ]
          },
          "metadata": {
            "tags": []
          }
        },
        {
          "output_type": "stream",
          "text": [
            "\n"
          ],
          "name": "stdout"
        }
      ]
    },
    {
      "cell_type": "markdown",
      "metadata": {
        "id": "Fyqua0vLSFzo",
        "colab_type": "text"
      },
      "source": [
        "##### 1.5.3 Loss trend over epochs\n",
        "\n",
        "Observing the loss trend helps choose model parameters. For example, if the loss is continuing to decrease, the number of epochs may need to be increased. Choice of learning rate may affect the loss trend"
      ]
    },
    {
      "cell_type": "code",
      "metadata": {
        "id": "qSZtgsPKz9hZ",
        "colab_type": "code",
        "outputId": "b800b427-814e-4220-a62e-9f3afefde722",
        "colab": {
          "base_uri": "https://localhost:8080/",
          "height": 283
        }
      },
      "source": [
        "plt.plot(loss)"
      ],
      "execution_count": 0,
      "outputs": [
        {
          "output_type": "execute_result",
          "data": {
            "text/plain": [
              "[<matplotlib.lines.Line2D at 0x7f43d2cf3e48>]"
            ]
          },
          "metadata": {
            "tags": []
          },
          "execution_count": 495
        },
        {
          "output_type": "display_data",
          "data": {
            "image/png": "[encoded data removed]",
            "text/plain": [
              "<Figure size 432x288 with 1 Axes>"
            ]
          },
          "metadata": {
            "tags": [],
            "needs_background": "light"
          }
        }
      ]
    },
    {
      "cell_type": "markdown",
      "metadata": {
        "id": "ZFqCucz3GOO7",
        "colab_type": "text"
      },
      "source": [
        "M**y comments** : Seems the loss decrease much at first and then become smooth at a second stage, have changed the params like learning rate but seems still have sharp edges"
      ]
    },
    {
      "cell_type": "markdown",
      "metadata": {
        "id": "-oAk-lGpSmbx",
        "colab_type": "text"
      },
      "source": [
        "##### 1.5.4 Print weights and biases"
      ]
    },
    {
      "cell_type": "code",
      "metadata": {
        "id": "4C-tt736Mx2e",
        "colab_type": "code",
        "outputId": "3cb78bc3-f9e8-4d0b-f882-e0a0d71930f2",
        "colab": {
          "base_uri": "https://localhost:8080/",
          "height": 355
        }
      },
      "source": [
        "print('weights 1:\\n', NN.weights1)\n",
        "print('weights 2:\\n', NN.weights2)\n",
        "\n",
        "print('bias 1:\\n', NN.bias1)\n",
        "print('bias 2:\\n', NN.bias2)"
      ],
      "execution_count": 0,
      "outputs": [
        {
          "output_type": "stream",
          "text": [
            "weights 1:\n",
            " [[ 2.51874322  0.45448771 -2.26841522  1.00203832 -0.27881422  1.23676089\n",
            "   0.0808957   0.71511092]\n",
            " [ 0.15696081  0.94063312 -2.65753642  0.87424345 -0.44543894  0.61269151\n",
            "   1.3673065   1.64069002]]\n",
            "weights 2:\n",
            " [[ 3.09404711]\n",
            " [ 0.78390669]\n",
            " [-9.00287606]\n",
            " [ 1.43831798]\n",
            " [-0.90108658]\n",
            " [ 1.51067569]\n",
            " [ 0.85295806]\n",
            " [ 2.84932422]]\n",
            "bias 1:\n",
            " [-0.75204851  0.0184592   3.25003829  0.01104158  0.25304881 -0.06607127\n",
            "  0.32659631 -0.7595213 ]\n",
            "bias 2:\n",
            " [-3.86301722]\n"
          ],
          "name": "stdout"
        }
      ]
    },
    {
      "cell_type": "markdown",
      "metadata": {
        "id": "8CDMv86wTP4v",
        "colab_type": "text"
      },
      "source": [
        "##### 1.5.5 Observe Decision Boundary\n",
        "\n",
        "The below code is used to visualize the decision boundary over the region between 0 to 1 for both feature inputs. Do not modify the code below. Ensure your neural network is trained before running the code below"
      ]
    },
    {
      "cell_type": "code",
      "metadata": {
        "id": "XD-USYjkVMQT",
        "colab_type": "code",
        "colab": {}
      },
      "source": [
        "# outcome = []\n",
        "# for i in np.arange(0,1,0.01):\n",
        "#   for j in np.arange(0,1,0.01):\n",
        "#     p = NN.predict(x=[i, j])\n",
        "#     outcome.append([i, j, p[0]])\n",
        "  \n",
        "# outcome = np.array(outcome)\n",
        "\n",
        "# f = plt.figure(figsize=(5,5))\n",
        "# plt.scatter(outcome[:,0], outcome[:,1], c=outcome[:,2], cmap=\"coolwarm\")"
      ],
      "execution_count": 0,
      "outputs": []
    },
    {
      "cell_type": "markdown",
      "metadata": {
        "id": "QtZatxJbUiGz",
        "colab_type": "text"
      },
      "source": [
        "#### 1.6 Classification: Notes\n",
        "\n",
        "* Perform from steps **1.5.1 to 1.5.5 for each of AND logic and XOR logic** separately\n",
        "* You may additional text or code cells to note down the outcomes as appropriate\n",
        "* Add a text cell to highlight your observations and inference\n",
        "\n"
      ]
    },
    {
      "cell_type": "markdown",
      "metadata": {
        "id": "_MD_X-Gh1iXg",
        "colab_type": "text"
      },
      "source": [
        "##### 1.6.1 AND logic\n",
        "\n",
        "For AND Logic:\n",
        "\n",
        "| x | x | y |\n",
        "|---|---|---|\n",
        "| 0 | 0 | 0 |\n",
        "| 0 | 1 | 0 |\n",
        "| 1 | 0 | 0 |\n",
        "| 1 | 1 | 1 |"
      ]
    },
    {
      "cell_type": "code",
      "metadata": {
        "id": "FSXrrfRj2Qt6",
        "colab_type": "code",
        "colab": {}
      },
      "source": [
        "x1 = np.array(([0, 0], [0,1], [1,0], [1,1]), dtype=float)\n",
        "y1 = np.array(([0], [0], [0], [1]), dtype=float)"
      ],
      "execution_count": 0,
      "outputs": []
    },
    {
      "cell_type": "code",
      "metadata": {
        "id": "co3BXMI73-LY",
        "colab_type": "code",
        "colab": {}
      },
      "source": [
        "hidden_nodes = 4\n",
        "learning_rate = 0.01\n",
        "NN1 = NeuralNetwork(x1, y1, hidden_nodes, learning_rate)"
      ],
      "execution_count": 0,
      "outputs": []
    },
    {
      "cell_type": "code",
      "metadata": {
        "id": "Wk8eJJzV8G8R",
        "colab_type": "code",
        "outputId": "5797edbf-e8c1-4882-9d6b-ad10c4a7342e",
        "colab": {
          "base_uri": "https://localhost:8080/",
          "height": 67,
          "referenced_widgets": [
            "6093836a0f9943c296d3fe5d4ea8639e",
            "4b167f47a42d4ae1b2878d8bf530397d",
            "d1f3fd331d064c168da12f1f9f112be8",
            "0f2f573504f349719e810057d348dc7f",
            "8301a431fbf64f19abf9ba2edb397cb6",
            "08936eae88014d34b2b77be3a3860368",
            "f896662abc794b58801d8a4723dc7119",
            "45f4675d51be4e63a7b9018856f41085"
          ]
        }
      },
      "source": [
        "loss1 = []\n",
        "epochs = 80000\n",
        "\n",
        "#tqdm generates a progress bar\n",
        "for i in tqdm(range(epochs)):\n",
        "  loss1.append(NN1.evaluate(NN1.y, NN1.ypred))\n",
        "  # if i<100:\n",
        "  #   print('epoch {} , losss {}'.format(i,loss[i]))\n",
        "  NN1.train(x1, y1)"
      ],
      "execution_count": 0,
      "outputs": [
        {
          "output_type": "display_data",
          "data": {
            "application/vnd.jupyter.widget-view+json": {
              "model_id": "6093836a0f9943c296d3fe5d4ea8639e",
              "version_minor": 0,
              "version_major": 2
            },
            "text/plain": [
              "HBox(children=(FloatProgress(value=0.0, max=80000.0), HTML(value='')))"
            ]
          },
          "metadata": {
            "tags": []
          }
        },
        {
          "output_type": "stream",
          "text": [
            "\n"
          ],
          "name": "stdout"
        }
      ]
    },
    {
      "cell_type": "code",
      "metadata": {
        "id": "gC31qhhT8GvJ",
        "colab_type": "code",
        "outputId": "931c6098-45ec-45ae-ffa2-fc5e5f135d2e",
        "colab": {
          "base_uri": "https://localhost:8080/",
          "height": 283
        }
      },
      "source": [
        "plt.plot(loss1)"
      ],
      "execution_count": 0,
      "outputs": [
        {
          "output_type": "execute_result",
          "data": {
            "text/plain": [
              "[<matplotlib.lines.Line2D at 0x7f43d07aeda0>]"
            ]
          },
          "metadata": {
            "tags": []
          },
          "execution_count": 501
        },
        {
          "output_type": "display_data",
          "data": {
            "image/png": "[encoded data removed]",
            "text/plain": [
              "<Figure size 432x288 with 1 Axes>"
            ]
          },
          "metadata": {
            "tags": [],
            "needs_background": "light"
          }
        }
      ]
    },
    {
      "cell_type": "code",
      "metadata": {
        "id": "Yxcvq8iQ2Vt_",
        "colab_type": "code",
        "outputId": "93f180b5-6ee8-42cf-e69e-341b2eb30e77",
        "colab": {
          "base_uri": "https://localhost:8080/",
          "height": 338
        }
      },
      "source": [
        "outcome = []\n",
        "for i in np.arange(0,1,0.01):\n",
        "  for j in np.arange(0,1,0.01):\n",
        "    p = NN1.predict(x=[i, j])\n",
        "    outcome.append([i, j, p[0]])\n",
        "  \n",
        "outcome = np.array(outcome)\n",
        "\n",
        "f = plt.figure(figsize=(5,5))\n",
        "plt.scatter(outcome[:,0], outcome[:,1], c=outcome[:,2], cmap=\"coolwarm\")"
      ],
      "execution_count": 0,
      "outputs": [
        {
          "output_type": "execute_result",
          "data": {
            "text/plain": [
              "<matplotlib.collections.PathCollection at 0x7f43d0c12908>"
            ]
          },
          "metadata": {
            "tags": []
          },
          "execution_count": 502
        },
        {
          "output_type": "display_data",
          "data": {
            "image/png": "[encoded data removed]",
            "text/plain": [
              "<Figure size 360x360 with 1 Axes>"
            ]
          },
          "metadata": {
            "tags": [],
            "needs_background": "light"
          }
        }
      ]
    },
    {
      "cell_type": "markdown",
      "metadata": {
        "id": "l4wJcJNaG5U5",
        "colab_type": "text"
      },
      "source": [
        "**My comments**: \n",
        "\n",
        "+ 80000 epoches with learning rate 0.01 for AND logic , seems the network has already can learn the result and decision boundry is some kind of clear\n",
        "\n",
        "+ but the loss is a little weird, the drop is not smooth as it always. confused by it is sharp in the very begining and flatten within hundreds of epoches"
      ]
    },
    {
      "cell_type": "markdown",
      "metadata": {
        "id": "Q34ydMSm3Bs5",
        "colab_type": "text"
      },
      "source": [
        "##### 1.6.2 XOR logic\n",
        "\n",
        "For XOR Logic:\n",
        "\n",
        "| x | x | y |\n",
        "|---|---|---|\n",
        "| 0 | 0 | 0 |\n",
        "| 0 | 1 | 1 |\n",
        "| 1 | 0 | 1 |\n",
        "| 1 | 1 | 0 |"
      ]
    },
    {
      "cell_type": "code",
      "metadata": {
        "id": "PD4A9ugi24yd",
        "colab_type": "code",
        "colab": {}
      },
      "source": [
        "x2 = np.array(([0, 0], [0,1], [1,0], [1,1]), dtype=float)\n",
        "y2 = np.array(([0], [1], [1], [0]), dtype=float)"
      ],
      "execution_count": 0,
      "outputs": []
    },
    {
      "cell_type": "code",
      "metadata": {
        "id": "DC1UZrei4GMx",
        "colab_type": "code",
        "colab": {}
      },
      "source": [
        "hidden_nodes = 8\n",
        "learning_rate = 0.01\n",
        "NN2 = NeuralNetwork(x2, y2, hidden_nodes, learning_rate)"
      ],
      "execution_count": 0,
      "outputs": []
    },
    {
      "cell_type": "code",
      "metadata": {
        "id": "obgtBdpV8ipO",
        "colab_type": "code",
        "outputId": "927ffd13-ea1e-468c-8aa2-136f834893f3",
        "colab": {
          "base_uri": "https://localhost:8080/",
          "height": 67,
          "referenced_widgets": [
            "ec46a96b12a8402190e55b71867b8e0b",
            "3cadfb57f3f240e6bc798847de34357c",
            "42ba97a2d91c4d6aa773bbab3d46b4dd",
            "dd27e5f23a524f46b39173847c395295",
            "f0ee35e1018a4f5082298c73adfcd9ad",
            "87a2417243224d4fb109fda129c2bf1b",
            "eaf16b69f4c44a949de1006e84ad5d74",
            "f65b0fb472d84b3f8e603143fbcd1f5c"
          ]
        }
      },
      "source": [
        "loss2 = []\n",
        "epochs = 80000\n",
        "\n",
        "#tqdm generates a progress bar\n",
        "for i in tqdm(range(epochs)):\n",
        "  loss2.append(NN2.evaluate(NN2.y, NN2.ypred))\n",
        "  # if i<100:\n",
        "  #   print('epoch {} , losss {}'.format(i,loss[i]))\n",
        "  NN2.train(x2, y2)"
      ],
      "execution_count": 0,
      "outputs": [
        {
          "output_type": "display_data",
          "data": {
            "application/vnd.jupyter.widget-view+json": {
              "model_id": "ec46a96b12a8402190e55b71867b8e0b",
              "version_minor": 0,
              "version_major": 2
            },
            "text/plain": [
              "HBox(children=(FloatProgress(value=0.0, max=80000.0), HTML(value='')))"
            ]
          },
          "metadata": {
            "tags": []
          }
        },
        {
          "output_type": "stream",
          "text": [
            "\n"
          ],
          "name": "stdout"
        }
      ]
    },
    {
      "cell_type": "code",
      "metadata": {
        "id": "i6lpanwX8pav",
        "colab_type": "code",
        "outputId": "a69af33c-ac6f-4962-9976-8fd207ac3c3c",
        "colab": {
          "base_uri": "https://localhost:8080/",
          "height": 283
        }
      },
      "source": [
        "plt.plot(loss2)"
      ],
      "execution_count": 0,
      "outputs": [
        {
          "output_type": "execute_result",
          "data": {
            "text/plain": [
              "[<matplotlib.lines.Line2D at 0x7f43d2109dd8>]"
            ]
          },
          "metadata": {
            "tags": []
          },
          "execution_count": 506
        },
        {
          "output_type": "display_data",
          "data": {
            "image/png": "[encoded data removed]",
            "text/plain": [
              "<Figure size 432x288 with 1 Axes>"
            ]
          },
          "metadata": {
            "tags": [],
            "needs_background": "light"
          }
        }
      ]
    },
    {
      "cell_type": "code",
      "metadata": {
        "id": "FQa4OMqJ3I9f",
        "colab_type": "code",
        "outputId": "da48cbe0-ce02-4390-dc86-ba5eca002325",
        "colab": {
          "base_uri": "https://localhost:8080/",
          "height": 338
        }
      },
      "source": [
        "outcome = []\n",
        "for i in np.arange(0,1,0.01):\n",
        "  for j in np.arange(0,1,0.01):\n",
        "    p = NN2.predict(x=[i, j])\n",
        "    outcome.append([i, j, p[0]])\n",
        "  \n",
        "outcome = np.array(outcome)\n",
        "\n",
        "f = plt.figure(figsize=(5,5))\n",
        "plt.scatter(outcome[:,0], outcome[:,1], c=outcome[:,2], cmap=\"coolwarm\")"
      ],
      "execution_count": 0,
      "outputs": [
        {
          "output_type": "execute_result",
          "data": {
            "text/plain": [
              "<matplotlib.collections.PathCollection at 0x7f43d0ba2518>"
            ]
          },
          "metadata": {
            "tags": []
          },
          "execution_count": 507
        },
        {
          "output_type": "display_data",
          "data": {
            "image/png": "[encoded data removed]",
            "text/plain": [
              "<Figure size 360x360 with 1 Axes>"
            ]
          },
          "metadata": {
            "tags": [],
            "needs_background": "light"
          }
        }
      ]
    },
    {
      "cell_type": "markdown",
      "metadata": {
        "id": "uwY_bK9RHQoo",
        "colab_type": "text"
      },
      "source": [
        "**My comments**: \n",
        "\n",
        "+ 80000 epoches with learning rate 0.01 for XOR logic , seems the network has already can get the result, but the decision boundry is not that clear, and when x1 and x2 go to the side (meaning near to 1 and 0), the internet will have a better prediction\n",
        "\n",
        "+ the center part is not clear which means our model feel difficult to decide when there is a input x vector like (0.5，0.5) what final XOR result will turn to?"
      ]
    },
    {
      "cell_type": "markdown",
      "metadata": {
        "id": "n2kHMRl7VahL",
        "colab_type": "text"
      },
      "source": [
        "#### 1.7: Regression Test\n",
        "\n",
        "Setup data for a Sinusoidal function and Gaussian function. For example,\n",
        "\n",
        "```\n",
        "x = np.arange(-1,1,0.01).reshape(-1,1)\n",
        "y = np.sin(np.pi*x)\n",
        "```\n",
        "\n",
        "HINT: When the output values are negative sigmoid activation at the output may not work. You may need to consider alternatives such as linear or tanh. If you find this difficult to implement you may consider only the positive cycle range for sine.\n",
        "\n",
        "Also note that when training entire batch of input (for eg. 200 samples) may lead to overflow. You may need to modify the code for sequential learning or mini-batch learning.\n",
        "\n",
        "Repeat the steps from 1.5.1 to 1.5.4 and record your outcomes. For visualizing the outcome **(do not use 1.5.5)** instead run the following code."
      ]
    },
    {
      "cell_type": "markdown",
      "metadata": {
        "id": "TuKPoBJEI6wU",
        "colab_type": "text"
      },
      "source": [
        "##### 1.7.1: Update activation function\n",
        "\n",
        "As hint, need to change the activation function to tanh in order to avoid effects from negative sigmoid activation"
      ]
    },
    {
      "cell_type": "code",
      "metadata": {
        "id": "xuu-PLY0yFV5",
        "colab_type": "code",
        "colab": {}
      },
      "source": [
        "def tanh(t):\n",
        "    return (np.exp(t)-np.exp(-t))/(np.exp(t)+np.exp(-t))\n",
        "\n",
        "# Derivative of tanh\n",
        "def tanh_derivative(p):\n",
        "    return (1 - p * p)"
      ],
      "execution_count": 0,
      "outputs": []
    },
    {
      "cell_type": "markdown",
      "metadata": {
        "id": "1YsCAf7cIta2",
        "colab_type": "text"
      },
      "source": [
        "##### 1.7.2: Update base class\n",
        "\n",
        "Since the activation function changed, need to change our base class to use it"
      ]
    },
    {
      "cell_type": "code",
      "metadata": {
        "id": "ulXoVl3Yzmx0",
        "colab_type": "code",
        "colab": {}
      },
      "source": [
        "# Class definition\n",
        "class NeuralNetwork:\n",
        "    def __init__(self, x, y, hidden_nodes, learning_rate):\n",
        "        self.x = x\n",
        "        self.y = y\n",
        "        self.ypred = np.zeros(y.shape)\n",
        "        self.hidden_nodes = hidden_nodes   \n",
        "        self.weights1 = np.random.randn(self.x.shape[1], self.hidden_nodes)\n",
        "        self.weights2 = np.random.randn(self.hidden_nodes, 1)\n",
        "        self.bias1 = np.random.rand(self.hidden_nodes)\n",
        "        self.bias2 = np.random.rand(1)\n",
        "        self.lr = learning_rate\n",
        "        \n",
        "        \n",
        "    def feedforward(self):\n",
        "        self.layer1 = tanh(np.dot(self.x, self.weights1) + self.bias1)\n",
        "        self.layer2 = tanh(np.dot(self.layer1, self.weights2) + self.bias2)\n",
        "        return self.layer2\n",
        "        \n",
        "    def backprop(self):  \n",
        "        d_loss = rmse_derivative(self.y,self.ypred)\n",
        "        #print(\"d_loss is {}\".format(d_loss))\n",
        "        # Write your code here\n",
        "        # compute gradients\n",
        "        delta = d_loss * tanh_derivative(self.ypred)  # (4,1)m(4,1)=(4,1)\n",
        "        #print(\"delta is {},shape is {}\".format(delta,delta.shape))\n",
        "        d_weights2 = np.dot(self.layer1.T, delta)  # (3,4)d(4,1)=(3,1)\n",
        "        #print(\"d_weights2 is {},shape is {}\".format(d_weights2,d_weights2.shape))\n",
        "        #print(np.ones(1,self.x.shape[0]).shape)\n",
        "        #print(delta.shape)\n",
        "        d_bias2 = np.mean(np.dot(np.ones((1,self.x.shape[0])), delta)) # (1,4)d(4,1)=(1,1)=>(1,)\n",
        "        #print(\"d_bias2 is {}\".format(d_bias2))\n",
        "\n",
        "        delta = self.weights2.T * tanh_derivative(self.layer1)*delta #(1,3)m(4,3)m(4,1)=(4,3)\n",
        "        d_weights1 = np.dot(self.x.T, delta)  #(2,4)d(4,3)=(2,3)\n",
        "        d_bias1 = np.mean(delta,0)  #(1,4)d(4,3)=(1,3)=>(3,)\n",
        "        #print(\"d_bias1 is {}\".format(d_bias1))\n",
        "\n",
        "        # update parameters\n",
        "        self.weights1 += self.lr * d_weights1\n",
        "        self.weights2 += self.lr * d_weights2\n",
        "\n",
        "        self.bias1 += self.lr * d_bias1\n",
        "        self.bias2 += self.lr * d_bias2\n",
        "\n",
        "    def train(self, x, y):\n",
        "        self.x = x\n",
        "        self.y = y\n",
        "        self.ypred = self.feedforward()\n",
        "        self.backprop()\n",
        "    \n",
        "    def predict(self, x):\n",
        "        self.x = x\n",
        "        self.ypred = self.feedforward()\n",
        "        return self.ypred\n",
        "\n",
        "    def evaluate(self, y, ypred):\n",
        "        self.y = y\n",
        "        self.ypred = ypred\n",
        "        self.loss = rmse(self.y, self.ypred)\n",
        "        return self.loss"
      ],
      "execution_count": 0,
      "outputs": []
    },
    {
      "cell_type": "markdown",
      "metadata": {
        "id": "NIZrJXnLJjJQ",
        "colab_type": "text"
      },
      "source": [
        "##### 1.7.3: Sin Regression"
      ]
    },
    {
      "cell_type": "code",
      "metadata": {
        "id": "X3DQqwhGCnBR",
        "colab_type": "code",
        "colab": {}
      },
      "source": [
        "x3 = np.arange(-0.95,0.95,0.05).reshape(-1,1)\n",
        "y3 = np.sin(np.pi*x3).reshape(-1,1)"
      ],
      "execution_count": 0,
      "outputs": []
    },
    {
      "cell_type": "code",
      "metadata": {
        "id": "rv-RBzxUCp78",
        "colab_type": "code",
        "colab": {}
      },
      "source": [
        "hidden_nodes = 4\n",
        "learning_rate = 0.01\n",
        "NN3 = NeuralNetwork(x3, y3, hidden_nodes, learning_rate)"
      ],
      "execution_count": 0,
      "outputs": []
    },
    {
      "cell_type": "code",
      "metadata": {
        "id": "vxGbjW-z0Dd2",
        "colab_type": "code",
        "outputId": "c6ead0f2-fec4-40db-f35b-91ca12f0da5c",
        "colab": {
          "base_uri": "https://localhost:8080/",
          "height": 67,
          "referenced_widgets": [
            "b7159af4526e4de4b05e11e321e8a145",
            "8c22613feb6649c79374a631fb7210f5",
            "f859bce3453d4588bf6da61f3283119b",
            "98f3181d155e4f27ae827b18b8e5b1b2",
            "438463702fb34a7d8bb9f3e12b95978d",
            "dceb539397b74e09a480312999b13347",
            "3dcde25ce9a648edbac2cefd9089ff09",
            "e589146c199f48a0a20151f07a74610a"
          ]
        }
      },
      "source": [
        "loss3 = []\n",
        "epochs = 10000\n",
        "\n",
        "#tqdm generates a progress bar\n",
        "for i in tqdm(range(epochs)):\n",
        "  loss3.append(NN3.evaluate(NN3.y, NN3.ypred))\n",
        "  # if i<100:\n",
        "  #   print('epoch {} , losss {}'.format(i,loss[i]))\n",
        "  NN3.train(x3, y3)"
      ],
      "execution_count": 0,
      "outputs": [
        {
          "output_type": "display_data",
          "data": {
            "application/vnd.jupyter.widget-view+json": {
              "model_id": "b7159af4526e4de4b05e11e321e8a145",
              "version_minor": 0,
              "version_major": 2
            },
            "text/plain": [
              "HBox(children=(FloatProgress(value=0.0, max=10000.0), HTML(value='')))"
            ]
          },
          "metadata": {
            "tags": []
          }
        },
        {
          "output_type": "stream",
          "text": [
            "\n"
          ],
          "name": "stdout"
        }
      ]
    },
    {
      "cell_type": "code",
      "metadata": {
        "id": "v4DbxyQDCxn7",
        "colab_type": "code",
        "outputId": "193a7ff8-4c7b-4cc0-e03e-575f5f78e87c",
        "colab": {
          "base_uri": "https://localhost:8080/",
          "height": 283
        }
      },
      "source": [
        "plt.plot(loss3)"
      ],
      "execution_count": 0,
      "outputs": [
        {
          "output_type": "execute_result",
          "data": {
            "text/plain": [
              "[<matplotlib.lines.Line2D at 0x7f43d0a3bcf8>]"
            ]
          },
          "metadata": {
            "tags": []
          },
          "execution_count": 513
        },
        {
          "output_type": "display_data",
          "data": {
            "image/png": "[encoded data removed]",
            "text/plain": [
              "<Figure size 432x288 with 1 Axes>"
            ]
          },
          "metadata": {
            "tags": [],
            "needs_background": "light"
          }
        }
      ]
    },
    {
      "cell_type": "markdown",
      "metadata": {
        "id": "2aoKPTY7Ju-0",
        "colab_type": "text"
      },
      "source": [
        "Seems the loss has convergened to some kind of consistency at epoches round 5500 to 7500 and has turbulence in other range"
      ]
    },
    {
      "cell_type": "markdown",
      "metadata": {
        "id": "R-bAke_FaD4G",
        "colab_type": "text"
      },
      "source": [
        "Observe outcomes : seems the prediction is some kind of good"
      ]
    },
    {
      "cell_type": "code",
      "metadata": {
        "id": "zuVVJ_SUVaQ7",
        "colab_type": "code",
        "outputId": "f8337ce8-a47e-477a-bb0d-0b75a0fe4f89",
        "colab": {
          "base_uri": "https://localhost:8080/",
          "height": 283
        }
      },
      "source": [
        "plt.plot(y3, linewidth=3)\n",
        "plt.plot(NN3.predict(x3), linewidth=3)\n",
        "plt.legend(['label', 'prediction'])"
      ],
      "execution_count": 0,
      "outputs": [
        {
          "output_type": "execute_result",
          "data": {
            "text/plain": [
              "<matplotlib.legend.Legend at 0x7f43d0b26f98>"
            ]
          },
          "metadata": {
            "tags": []
          },
          "execution_count": 514
        },
        {
          "output_type": "display_data",
          "data": {
            "image/png": "[encoded data removed]",
            "text/plain": [
              "<Figure size 432x288 with 1 Axes>"
            ]
          },
          "metadata": {
            "tags": [],
            "needs_background": "light"
          }
        }
      ]
    },
    {
      "cell_type": "markdown",
      "metadata": {
        "id": "zefCrYNaKdwm",
        "colab_type": "text"
      },
      "source": [
        "##### 1.7.4: Gussain Regression"
      ]
    },
    {
      "cell_type": "markdown",
      "metadata": {
        "id": "bL1KMfQOKlAu",
        "colab_type": "text"
      },
      "source": [
        "Set up the gussain data with mu is 0 and sigma is 1 which means it is a standard norm distribution"
      ]
    },
    {
      "cell_type": "code",
      "metadata": {
        "id": "b5f9fp1cDJKz",
        "colab_type": "code",
        "outputId": "d611105f-59ea-44d7-ca11-f29259eeee88",
        "colab": {
          "base_uri": "https://localhost:8080/",
          "height": 283
        }
      },
      "source": [
        "x4 = np.arange(-0.95,0.95,0.05).reshape(-1,1)\n",
        "\n",
        "def gaussion(x,sigma=1,mu=0):\n",
        "  a=1/(sigma*np.sqrt(2*np.pi))\n",
        "  b=((x-mu)/sigma)**2\n",
        "  return a*np.exp(-b).reshape(-1,1)\n",
        "\n",
        "y4 = gaussion (x4)\n",
        "plt.plot(x4, y4, color='blue', lw=3)"
      ],
      "execution_count": 0,
      "outputs": [
        {
          "output_type": "execute_result",
          "data": {
            "text/plain": [
              "[<matplotlib.lines.Line2D at 0x7f43d07370b8>]"
            ]
          },
          "metadata": {
            "tags": []
          },
          "execution_count": 515
        },
        {
          "output_type": "display_data",
          "data": {
            "image/png": "[encoded data removed]",
            "text/plain": [
              "<Figure size 432x288 with 1 Axes>"
            ]
          },
          "metadata": {
            "tags": [],
            "needs_background": "light"
          }
        }
      ]
    },
    {
      "cell_type": "code",
      "metadata": {
        "id": "PsxZ6hPDDNH8",
        "colab_type": "code",
        "colab": {}
      },
      "source": [
        "hidden_nodes = 4\n",
        "learning_rate = 0.01\n",
        "NN4 = NeuralNetwork(x4, y4, hidden_nodes, learning_rate)"
      ],
      "execution_count": 0,
      "outputs": []
    },
    {
      "cell_type": "code",
      "metadata": {
        "id": "QydvdyVJNUHE",
        "colab_type": "code",
        "outputId": "1cb0fec2-5b61-4ca0-95d2-46ae2bd31b44",
        "colab": {
          "base_uri": "https://localhost:8080/",
          "height": 332,
          "referenced_widgets": [
            "86db3a09677c452595454caf450d2465",
            "bc30b9d5c5194d6d9697cbf834c09668",
            "d8efa6b71f814217990b02fc7b08dae8",
            "72f41ef8b11a478a83c2b58369557b63",
            "7fc441dd647d4585888c635c7ee3cd85",
            "628c580f743f492f9c83e6a04778af46",
            "bb76148b45904071b99334c831e597f4",
            "ad68833ded074d32bf0d4685cb0059cb"
          ]
        }
      },
      "source": [
        "loss4 = []\n",
        "epochs = 10000\n",
        "\n",
        "#tqdm generates a progress bar\n",
        "for i in tqdm(range(epochs)):\n",
        "  loss4.append(NN4.evaluate(NN4.y, NN4.ypred))\n",
        "  # if i<100:\n",
        "  #   print('epoch {} , losss {}'.format(i,loss[i]))\n",
        "  NN4.train(x4, y4)\n",
        "\n",
        "plt.plot(loss4)"
      ],
      "execution_count": 0,
      "outputs": [
        {
          "output_type": "display_data",
          "data": {
            "application/vnd.jupyter.widget-view+json": {
              "model_id": "86db3a09677c452595454caf450d2465",
              "version_minor": 0,
              "version_major": 2
            },
            "text/plain": [
              "HBox(children=(FloatProgress(value=0.0, max=10000.0), HTML(value='')))"
            ]
          },
          "metadata": {
            "tags": []
          }
        },
        {
          "output_type": "stream",
          "text": [
            "\n"
          ],
          "name": "stdout"
        },
        {
          "output_type": "execute_result",
          "data": {
            "text/plain": [
              "[<matplotlib.lines.Line2D at 0x7f43d065e588>]"
            ]
          },
          "metadata": {
            "tags": []
          },
          "execution_count": 517
        },
        {
          "output_type": "display_data",
          "data": {
            "image/png": "[encoded data removed]",
            "text/plain": [
              "<Figure size 432x288 with 1 Axes>"
            ]
          },
          "metadata": {
            "tags": [],
            "needs_background": "light"
          }
        }
      ]
    },
    {
      "cell_type": "code",
      "metadata": {
        "id": "ZC40sGdMFRPm",
        "colab_type": "code",
        "outputId": "753ff7fd-71d9-4759-8309-266eded4bbe4",
        "colab": {
          "base_uri": "https://localhost:8080/",
          "height": 283
        }
      },
      "source": [
        "plt.plot(x4, y4, color='blue', lw=3)\n",
        "plt.plot(x4, NN4.predict(x4),color='orange',linewidth=3)\n",
        "plt.legend(['label', 'prediction'])"
      ],
      "execution_count": 0,
      "outputs": [
        {
          "output_type": "execute_result",
          "data": {
            "text/plain": [
              "<matplotlib.legend.Legend at 0x7f43d173b470>"
            ]
          },
          "metadata": {
            "tags": []
          },
          "execution_count": 518
        },
        {
          "output_type": "display_data",
          "data": {
            "image/png": "[encoded data removed]",
            "text/plain": [
              "<Figure size 432x288 with 1 Axes>"
            ]
          },
          "metadata": {
            "tags": [],
            "needs_background": "light"
          }
        }
      ]
    },
    {
      "cell_type": "markdown",
      "metadata": {
        "id": "0bicOChJeho9",
        "colab_type": "text"
      },
      "source": [
        "#### 1.8 Regrerssion: Notes\n",
        "\n",
        "Using the steps illustrated for Problem 2 (except observing outcomes) test the ability of your neural network to perform regression task. What are your observations. How are some of the ways that the model can be improved?"
      ]
    },
    {
      "cell_type": "markdown",
      "metadata": {
        "id": "yKWpyX9ou592",
        "colab_type": "text"
      },
      "source": [
        ""
      ]
    },
    {
      "cell_type": "markdown",
      "metadata": {
        "id": "rUr3SPix46Wx",
        "colab_type": "text"
      },
      "source": [
        "###### 1.8.1 Comments\n",
        "\n",
        "It seems already get a good prediction of the regression tasks for sin and gussain, but there some considerations:\n",
        "+  the range of the input value is betweem 0 and 1, if use x not in the range, the prediction is not correct, this can also due to the activation functions we used \n",
        "+ in the test use 10000 epoches and i also tried 80000 epoches, actually you need to consider this. if we train with more epoches , can we get a significant improvent? i think train the models will cost GPU performance and sometimes we need to balance the accuracy and run time\n",
        "\n",
        "Then can think of the improvement:\n",
        "\n",
        "+ in the forward functon , actually  already calculate the derivatives of the activation function, we know that in the backprop function we need to use those derivatives again, so we can store them into an array in the local memory in order to avoid calculating them twice"
      ]
    },
    {
      "cell_type": "markdown",
      "metadata": {
        "id": "WkVzMMkZh_Eq",
        "colab_type": "text"
      },
      "source": [
        "### Phase 2: Integrate additional functionalities to the Neural Network model\n",
        "\n",
        "The base class implementation of Neural Network provided is elementary and there are several features that can be improved. Implement any 3 of the following possible improvements (You are welcome to try all 5)\n",
        "\n",
        "1. Introduce regularization of model parameters (weights and bias)\n",
        "2. Enable mini-batch/ sequential learning where the number of items in a batch can be customized.\n",
        "3. Implement one more hidden layer\n",
        "4. Introduce ReLU activation. Implement Cross Entropy loss function.\n",
        "5. Enable one or more of the following: Learning rate decay, early-stopping, Custom weights and bias initializer (eg. zeros, ones, Gaussian, etc)\n",
        "\n",
        "HINTS:\n",
        "\n",
        "* For 1, a regularization parameter will be required which can be set under __init__\n",
        "* For 2, Batch learning can be introduced while training the model using a nested for loop approach. This does not require modification of the original class\n",
        "* For 3, you will have to backpropagate loss through one more layer, which is like a chain operation\n",
        "* For 4 and 5, you need to implement both the actual function (for feed-forward) and its derivate (for backpropagation)\n",
        "\n",
        "\n",
        "\n"
      ]
    },
    {
      "cell_type": "markdown",
      "metadata": {
        "id": "xfpwte8XlLMQ",
        "colab_type": "text"
      },
      "source": [
        "#### Text description for Phase 2"
      ]
    },
    {
      "cell_type": "markdown",
      "metadata": {
        "id": "yKkAH_9tvHHO",
        "colab_type": "text"
      },
      "source": [
        ""
      ]
    },
    {
      "cell_type": "markdown",
      "metadata": {
        "id": "AIvpIHeWYSwR",
        "colab_type": "text"
      },
      "source": [
        "**My comment**: here I choose 2, 4, 5 \n",
        "1. for point 2 as hint i will use it while trainnig so no need to change the basic class\n",
        "1. for point 5 I choose the last one: custome weights and bias initializer"
      ]
    },
    {
      "cell_type": "markdown",
      "metadata": {
        "id": "A-4Qc5o3nNP5",
        "colab_type": "text"
      },
      "source": [
        "\n",
        "\n",
        "Why I choose those 3 points for optimization\n",
        "\n",
        "*   point 2: if the data is too much and  train the data one by one, then it will be a waste of time and the final result maybe not good, so use batches meaning everytime  just train a single batch and then we can make the loss convergence much more quickly\n",
        "*   point 4: if use sigmoid function, as the maximum of the derivative of sigmoid is 0.25, so with the backprop progresswill mutiply the derivative which make the delta becoming more and more smaller , it will cause the gradient disappears, when use relu, when the value is bigger than 0 then the derivative will always be 1 so it will not cause gradient disappear\n",
        "\n",
        "*  point 5: in the first basic class just set the initial weight to np.random value, as  the x input and final y should meet some kind of rules, we can set it to a common distribution which maybe better than nothing to follow at the very beginning \n",
        "\n",
        "\n"
      ]
    },
    {
      "cell_type": "code",
      "metadata": {
        "id": "6o-Zuzm38NDM",
        "colab_type": "code",
        "colab": {}
      },
      "source": [
        "#Introduce ReLU activation\n",
        "def relu(t):\n",
        "    return np.maximum(t, 0)\n",
        "\n",
        "#Derivative of relu\n",
        "def relu_derivative(p):\n",
        "    p[p<=0] = 0\n",
        "    p[p>0] = 1\n",
        "    return p"
      ],
      "execution_count": 0,
      "outputs": []
    },
    {
      "cell_type": "code",
      "metadata": {
        "id": "MgoNS3w78n8y",
        "colab_type": "code",
        "colab": {}
      },
      "source": [
        "# Loss function - Cross Entropy\n",
        "def cross_entropy(y,X):\n",
        "    X = X.clip(min=1e-8,max=1-1e-8)\n",
        "    return -np.mean(y*np.log(X) + (1-y) * np.log(1-X))\n",
        "\n",
        "# Loss function derivative - Cross Entropy\n",
        "def cross_entropy_derivative(y,X):\n",
        "    return  -(y-X) * 1/X * 1/(1-X)"
      ],
      "execution_count": 0,
      "outputs": []
    },
    {
      "cell_type": "code",
      "metadata": {
        "id": "5goOhp84MxrT",
        "colab_type": "code",
        "colab": {}
      },
      "source": [
        "# Phase2 Class definition\n",
        "class NeuralNetwork_P2:\n",
        "    def __init__(self, x, y, hidden_nodes, learning_rate):\n",
        "        self.x = x\n",
        "        self.y = y\n",
        "        self.ypred = np.zeros(y.shape)\n",
        "\n",
        "        self.hidden_nodes = hidden_nodes\n",
        "        self.lr = learning_rate\n",
        "\n",
        "        #here we use randn to custom the weight from very beginning\n",
        "        #self.weights1 = np.random.randn(self.x.shape[1], self.hidden_nodes)\n",
        "        self.weights2 = np.random.randn(self.hidden_nodes, 1)\n",
        "        self.weights1 = np.random.randn(self.x.shape[1], self.hidden_nodes) #* np.sqrt(2/self.x.shape[1])\n",
        "        #self.weights2 = np.random.randn(self.hidden_nodes, 1) * np.sqrt(2/self.hidden_nodes)\n",
        "        #self.bias1 = np.random.randn(self.hidden_nodes)\n",
        "        #self.bias2 = np.random.randn(1) \n",
        "        self.bias1 = np.random.rand(self.hidden_nodes)\n",
        "        self.bias2 = np.random.rand(1)\n",
        "        #print('self.weights1:{},shape is {}'.format(self.weights1,self.weights1.shape))\n",
        "        #print('self.weights2:{},shape is {}'.format(self.weights2,self.weights1.shape))\n",
        "        #print('self.bias1:{},shape is {}'.format(self.bias1,self.bias1.shape))\n",
        "        #print('self.bias2:{},shape is {}'.format(self.bias2,self.bias2.shape))\n",
        "\n",
        "    def feedforward(self):\n",
        "        self.layer1 = relu(np.dot(self.x, self.weights1) + self.bias1)\n",
        "        #print('self.layer1:{},shape is {}'.format(self.layer1,self.layer1.shape))\n",
        "        self.layer2 = sigmoid(np.dot(self.layer1, self.weights2) + self.bias2)\n",
        "        #print('self.layer2:{},shape is {}'.format(self.layer2,self.layer2.shape))\n",
        "        return self.layer2\n",
        "        \n",
        "    def backprop(self):\n",
        "        #print(self.ypred)\n",
        "        #d_loss = cross_entropy_derivative(self.ypred, self.y)\n",
        "        #print(\"d_loss is {},shape is {}\".format(d_loss,d_loss.shape))\n",
        "        #print(\"relu_derivative is {}\".format(relu_derivative(self.ypred)))\n",
        "        #delta = d_loss * sigmoid_derivative(self.ypred)  # (16,1)m(16,1)=(16,1)\n",
        "        delta = cross_entropy_derivative(self.y, self.ypred)\n",
        "        #print(\"delta is {},shape is {}\".format(delta,delta.shape))\n",
        "        gradient2 = delta * sigmoid_derivative(self.layer2)\n",
        "        d_weights2 = np.dot(self.layer1.T, gradient2)  # (3,16)d(16,1)=(3,1)\n",
        "        #print(\"d_weights2 is {},shape is {}\".format(d_weights2,d_weights2.shape))\n",
        "        #print(np.ones(1,self.x.shape[0]).shape)\n",
        "        #print(delta.shape)\n",
        "        d_bias2 = np.dot(np.ones((self.layer1.shape[0], 1)).T, gradient2) # (1,16)d16,1)=(1,1)=>(1,)\n",
        "        #print(\"d_bias2 is {}\".format(d_bias2))\n",
        "\n",
        "        delta1 = np.dot(gradient2, self.weights2.T) #(1,3)m(16,3)m(16,1)=(16,3)\n",
        "        gradient1 = delta1 * relu_derivative(self.layer1)\n",
        "        d_weights1 = np.dot(self.x.T, gradient1)  #(2,16)d(16,3)=(2,3)\n",
        "        #print(\"d_weights1 is {},shape is {}\".format(d_weights1,d_weights1.shape))\n",
        "        d_bias1 = np.dot(np.ones((self.x.shape[0], 1)).T, gradient1)  #(1,16)d(16,3)=(1,3)=>(3,)\n",
        "        #print(\"d_bias1 is {}\".format(d_bias1))\n",
        "\n",
        "        # update parameters\n",
        "        self.weights1 = self.weights1 - (d_weights1 * self.lr) \n",
        "        self.weights2 = self.weights2 - (d_weights2 * self.lr) \n",
        "\n",
        "        self.bias1 = self.bias1 -  (d_bias1 * self.lr) \n",
        "        self.bias2 = self.bias2 - (d_bias2 * self.lr) \n",
        "\n",
        "    def train(self, x, y):\n",
        "        self.x = x\n",
        "        self.y = y\n",
        "        #random.shuffle(self.x) #shuffle the minibatch\n",
        "        self.ypred = self.feedforward()\n",
        "        #print('self.ypred is {}'.format(self.ypred))\n",
        "        self.backprop()\n",
        "    \n",
        "    def predict(self, x):\n",
        "        self.x = x\n",
        "        self.ypred = self.feedforward()\n",
        "        return self.ypred\n",
        "\n",
        "    def evaluate(self, y, ypred):\n",
        "        self.y = y\n",
        "        self.ypred = ypred\n",
        "        #print('ypred is {}'.format(ypred))\n",
        "        #print('y is {}'.format(y))\n",
        "        self.loss = cross_entropy(self.y,self.ypred)\n",
        "        return self.loss"
      ],
      "execution_count": 0,
      "outputs": []
    },
    {
      "cell_type": "code",
      "metadata": {
        "id": "rsQSem98qspc",
        "colab_type": "code",
        "outputId": "d307b6a4-44ff-422a-9f54-366fc4cf1a0d",
        "colab": {
          "base_uri": "https://localhost:8080/",
          "height": 67,
          "referenced_widgets": [
            "562960f854254ab799cbcfe13d5beaca",
            "c5b491c2c5374841b404c8a60988dc0d",
            "480c99ea83454a2a93a88a99ba3fe220",
            "98e4598a452e404799954a9efdaff643",
            "d5e6070207324f5f80e4c9ee1dac79c8",
            "30738835720e42d3a6f3f8951defd6bb",
            "212628ea0c8f438a87e513146738ec7b",
            "977971476c484c7fbcad3efe1d6b5e9d"
          ]
        }
      },
      "source": [
        "x_p2 = np.array(([0, 0], [0, 1], [1, 0], [1, 1]), dtype=float)\n",
        "y_p2 = np.array(([0], [1], [1], [0]), dtype=float)\n",
        "\n",
        "loss_p2 = []\n",
        "\n",
        "epochs = 10000\n",
        "hidden_nodes = 8 \n",
        "learning_rate = 0.01\n",
        "NN_P2 = NeuralNetwork_P2(x_p2, y_p2, hidden_nodes, learning_rate)\n",
        "\n",
        "NN_P2.train(x_p2, y_p2)\n",
        "\n",
        "for i in tqdm(range(epochs)):  \n",
        "    loss_p2.append(NN_P2.evaluate(NN_P2.y, NN_P2.ypred))\n",
        "    NN_P2.train(x_p2, y_p2)\n",
        "    # if i%2 == 0:\n",
        "    #   print('epoch {} : loss {}'.format(i,loss_p2[i]))"
      ],
      "execution_count": 0,
      "outputs": [
        {
          "output_type": "display_data",
          "data": {
            "application/vnd.jupyter.widget-view+json": {
              "model_id": "562960f854254ab799cbcfe13d5beaca",
              "version_minor": 0,
              "version_major": 2
            },
            "text/plain": [
              "HBox(children=(FloatProgress(value=0.0, max=10000.0), HTML(value='')))"
            ]
          },
          "metadata": {
            "tags": []
          }
        },
        {
          "output_type": "stream",
          "text": [
            "\n"
          ],
          "name": "stdout"
        }
      ]
    },
    {
      "cell_type": "code",
      "metadata": {
        "id": "GaT4WkEgpYLc",
        "colab_type": "code",
        "colab": {}
      },
      "source": [
        ""
      ],
      "execution_count": 0,
      "outputs": []
    },
    {
      "cell_type": "code",
      "metadata": {
        "id": "qfT1-6NB_fJV",
        "colab_type": "code",
        "outputId": "8114899b-34f7-4350-e5ca-03aa8c2771cd",
        "colab": {
          "base_uri": "https://localhost:8080/",
          "height": 283
        }
      },
      "source": [
        "plt.plot(loss_p2)"
      ],
      "execution_count": 0,
      "outputs": [
        {
          "output_type": "execute_result",
          "data": {
            "text/plain": [
              "[<matplotlib.lines.Line2D at 0x7f43d118bf60>]"
            ]
          },
          "metadata": {
            "tags": []
          },
          "execution_count": 523
        },
        {
          "output_type": "display_data",
          "data": {
            "image/png": "[encoded data removed]",
            "text/plain": [
              "<Figure size 432x288 with 1 Axes>"
            ]
          },
          "metadata": {
            "tags": [],
            "needs_background": "light"
          }
        }
      ]
    },
    {
      "cell_type": "markdown",
      "metadata": {
        "id": "MV8YhvlBY4S8",
        "colab_type": "text"
      },
      "source": [
        "+ Seems there is some problem as the loss has no change at all, so need to look back to see if issue in the backprop process\n",
        "+ After check, the base class should be correct , use relu as the activation function in the first layer and the use softmax and cross entropy loss\n",
        "+ seems still have some problem in the definition of derivatives function of cross entropy loss which makes the final result incorrect"
      ]
    },
    {
      "cell_type": "code",
      "metadata": {
        "id": "e54BlmPqgMys",
        "colab_type": "code",
        "outputId": "71c53f6f-ef8c-4c09-a4b3-38b41da78b14",
        "colab": {
          "base_uri": "https://localhost:8080/",
          "height": 338
        }
      },
      "source": [
        "outcome = []\n",
        "for i in np.arange(0,1,0.01):\n",
        "  for j in np.arange(0,1,0.01):\n",
        "    p = NN_P2.predict(x=[i, j])\n",
        "    outcome.append([i, j, p[0]])\n",
        "\n",
        "outcome = np.array(outcome)\n",
        "\n",
        "f = plt.figure(figsize=(5,5))\n",
        "plt.scatter(outcome[:,0], outcome[:,1], c=outcome[:,2], cmap=\"coolwarm\")"
      ],
      "execution_count": 0,
      "outputs": [
        {
          "output_type": "execute_result",
          "data": {
            "text/plain": [
              "<matplotlib.collections.PathCollection at 0x7f43d0542cc0>"
            ]
          },
          "metadata": {
            "tags": []
          },
          "execution_count": 524
        },
        {
          "output_type": "display_data",
          "data": {
            "image/png": "[encoded data removed]",
            "text/plain": [
              "<Figure size 360x360 with 1 Axes>"
            ]
          },
          "metadata": {
            "tags": [],
            "needs_background": "light"
          }
        }
      ]
    },
    {
      "cell_type": "markdown",
      "metadata": {
        "id": "HC2VjnqSklnJ",
        "colab_type": "text"
      },
      "source": [
        "### Phase 2: Notes\n",
        "\n",
        "* All changes to the model can be tested using any one of the datasets used for classification test *(Problem 1)*, regression test *(Problem 2)*, or breast cancer dataset *(Problem 4)*\n",
        "* Any code snippet that is modified should be written separately in code cells above.\n",
        "* All modification and their impact on model performance must be described in detail in text cells below. Feel free to add images, mathematical equations, flowcharts, comparison scores, etc.\n",
        "* Add as many number of text or code cells as required\n",
        "* Note that sometimes it is easy to copy the outcomes from a previous cell execution in the form of an image (example, right click -> save image or screenshot), and embed the image in a text cell to describe the outcome.\n",
        "\n"
      ]
    },
    {
      "cell_type": "markdown",
      "metadata": {
        "id": "vEcjUzpgCwhn",
        "colab_type": "text"
      },
      "source": [
        "### Phase 3: Classify cancerous cells using Wisconsin Breast Cancer Dataset\n",
        "\n",
        "It is important to evaluate your Neural Network implementation on real-life dataset in order to measure performance, and identify scope for improvements. In this problem you will test the best variant of your model on the breast cancer dataset. More information about the data can be found [here](http://archive.ics.uci.edu/ml/datasets/breast+cancer+wisconsin+%28diagnostic%29).\n",
        "\n"
      ]
    },
    {
      "cell_type": "markdown",
      "metadata": {
        "id": "RXY0bzrQoMLX",
        "colab_type": "text"
      },
      "source": [
        "#### 3.1 Load Data\n",
        "\n",
        "Please note that the data loaded may not be normalized. Implement a data noramalization function and process the data through the normalizer before using it for training.\n",
        "\n",
        "The dataset consists of 569 samples and 30 features. There are two classes identifying the cancer as bening or malign."
      ]
    },
    {
      "cell_type": "code",
      "metadata": {
        "id": "ehqkXkQD40PA",
        "colab_type": "code",
        "colab": {}
      },
      "source": [
        "from sklearn.datasets import load_breast_cancer\n",
        "from sklearn.manifold import TSNE"
      ],
      "execution_count": 0,
      "outputs": []
    },
    {
      "cell_type": "code",
      "metadata": {
        "id": "lGzdLEWBojiK",
        "colab_type": "code",
        "colab": {}
      },
      "source": [
        "# DO NOT MODIFY this cell\n",
        "\n",
        "data = load_breast_cancer().data\n",
        "target = load_breast_cancer().target\n",
        "\n",
        "test_idx = np.array([  9,  10,  12,  15,  16,  20,  22,  25,  38,  47,  57,  61,  68,\n",
        "        73,  74,  84,  85,  91,  93, 108, 112, 117, 119, 135, 136, 138,\n",
        "       140, 147, 149, 152, 171, 172, 173, 180, 182, 186, 187, 205, 207,\n",
        "       210, 218, 235, 239, 242, 251, 267, 270, 275, 283, 285, 286, 288,\n",
        "       291, 305, 307, 310, 315, 318, 319, 323, 337, 339, 346, 350, 352,\n",
        "       368, 370, 374, 378, 389, 402, 408, 414, 415, 419, 422, 428, 430,\n",
        "       433, 435, 442, 451, 458, 459, 464, 465, 469, 470, 480, 484, 486,\n",
        "       501, 510, 532, 533, 536, 537, 543, 553, 560])\n",
        "\n",
        "train_idx = list(set(test_idx)^set(np.arange(len(data))))\n",
        "\n",
        "data_train = data[train_idx]\n",
        "target_train = target[train_idx]\n",
        "\n",
        "data_test = data[test_idx]\n",
        "target_test= target[test_idx]\n",
        "\n",
        "train_max = data_train.max(axis=0)\n",
        "train_min = data_train.min(axis=0)"
      ],
      "execution_count": 0,
      "outputs": []
    },
    {
      "cell_type": "code",
      "metadata": {
        "id": "Bqqy1uEmrJE1",
        "colab_type": "code",
        "colab": {}
      },
      "source": [
        "# Implement code for data normalization. Remember you need to use normalization \n",
        "# parameters from training data and apply the same for test data. Eg. maximum \n",
        "# and minimum values.\n",
        "\n",
        "# def normalize(data, tr_min, tr_max):\n",
        "#     return (data - tr_min)/(tr_max-tr_min) \n",
        "\n",
        "# data_train_scaled = normalize(data_train,np.min(data_train),np.max(data_train))\n",
        "# data_test_scaled = normalize(data_test,np.min(data_test),np.max(data_test))\n",
        "# print(data_train_scaled.shape)\n",
        "# print(data_test_scaled.shape)"
      ],
      "execution_count": 0,
      "outputs": []
    },
    {
      "cell_type": "code",
      "metadata": {
        "id": "3215_gShr6X-",
        "colab_type": "code",
        "colab": {}
      },
      "source": [
        "def normalize(data, tr_min, tr_max):\n",
        "    x_standard = (data - tr_min) /  (tr_max- tr_min)\n",
        "    x_scaled = (x_standard * (1 - (-1))) + (-1)\n",
        "    return x_scaled\n",
        "\n",
        "\n",
        "data_train_scaled = normalize(data_train, train_min, train_max)\n",
        "data_test_scaled = normalize(data_test, train_min, train_max)"
      ],
      "execution_count": 0,
      "outputs": []
    },
    {
      "cell_type": "markdown",
      "metadata": {
        "id": "fud-DLuAtZOJ",
        "colab_type": "text"
      },
      "source": [
        "#### 3.2 Training and Prediction"
      ]
    },
    {
      "cell_type": "code",
      "metadata": {
        "id": "3A9ob30C3wmj",
        "colab_type": "code",
        "colab": {}
      },
      "source": [
        "# train model\n",
        "x = data_train_scaled\n",
        "y = target_train.reshape(-1, 1)\n",
        "\n",
        "hidden_nodes = 16\n",
        "learning_rate = 0.001\n",
        "NN_p3 = NeuralNetwork_P2(x, y, hidden_nodes, learning_rate)"
      ],
      "execution_count": 0,
      "outputs": []
    },
    {
      "cell_type": "code",
      "metadata": {
        "id": "c7LX6dmGZApj",
        "colab_type": "code",
        "outputId": "d71f635e-59df-4fc0-f6c4-e949c402a09a",
        "colab": {
          "base_uri": "https://localhost:8080/",
          "height": 67,
          "referenced_widgets": [
            "ee721ab011b34bbf9477caf04668b2db",
            "b806a0adcf984e128582cd3fe173b154",
            "daffacea28fb44d0814790bc3b05c525",
            "616f8f10d7a54f81a2ac58ea22b1b0dc",
            "fc0e7a65b9c846f186109dbc489a8d3f",
            "ac9f90f12da548dfa742c434d562d677",
            "1140ea5ee3ee4c3e86feb0979c0fce5a",
            "9483f41e132c44d7ada4732fb9519346"
          ]
        }
      },
      "source": [
        "# perform training. Consider modifying the previous training example for mini-batch or sequential training\n",
        "# loss = []\n",
        "\n",
        "# for i in tqdm(range(1000)): # trains the NN 1,000 times\n",
        "batch_size = 10\n",
        "epoches = 5000\n",
        "loss_p3 = []\n",
        "x_batch = np.asarray(np.array_split(x, batch_size))\n",
        "y_batch = np.asarray(np.array_split(y, batch_size))\n",
        "\n",
        "\n",
        "for i in tqdm(range(epoches)):\n",
        "  loss_mean = 0\n",
        "  for k in range(batch_size):\n",
        "      NN_p3.train(x_batch[k], y_batch[k])\n",
        "      loss_mean = loss_mean + NN_p3.evaluate(y_batch[k], NN_p3.ypred)\n",
        "  loss_p3.append(np.divide(loss_mean, batch_size))"
      ],
      "execution_count": 0,
      "outputs": [
        {
          "output_type": "display_data",
          "data": {
            "application/vnd.jupyter.widget-view+json": {
              "model_id": "ee721ab011b34bbf9477caf04668b2db",
              "version_minor": 0,
              "version_major": 2
            },
            "text/plain": [
              "HBox(children=(FloatProgress(value=0.0, max=5000.0), HTML(value='')))"
            ]
          },
          "metadata": {
            "tags": []
          }
        },
        {
          "output_type": "stream",
          "text": [
            "\n"
          ],
          "name": "stdout"
        }
      ]
    },
    {
      "cell_type": "code",
      "metadata": {
        "id": "BRtpML-8QcfY",
        "colab_type": "code",
        "outputId": "898a207a-0868-4e0e-8728-ce61822d7468",
        "colab": {
          "base_uri": "https://localhost:8080/",
          "height": 35
        }
      },
      "source": [
        "NN_p3.ypred[-1]"
      ],
      "execution_count": 0,
      "outputs": [
        {
          "output_type": "execute_result",
          "data": {
            "text/plain": [
              "array([1.])"
            ]
          },
          "metadata": {
            "tags": []
          },
          "execution_count": 531
        }
      ]
    },
    {
      "cell_type": "code",
      "metadata": {
        "id": "Dg8e1ZcUZANQ",
        "colab_type": "code",
        "outputId": "c105086f-3a7a-4b03-a3f0-b80981ad5099",
        "colab": {
          "base_uri": "https://localhost:8080/",
          "height": 338
        }
      },
      "source": [
        "plt.figure(figsize=(20,5))\n",
        "plt.plot(loss_p3)"
      ],
      "execution_count": 0,
      "outputs": [
        {
          "output_type": "execute_result",
          "data": {
            "text/plain": [
              "[<matplotlib.lines.Line2D at 0x7f43d0320748>]"
            ]
          },
          "metadata": {
            "tags": []
          },
          "execution_count": 532
        },
        {
          "output_type": "display_data",
          "data": {
            "image/png": "[encoded data removed]",
            "text/plain": [
              "<Figure size 1440x360 with 1 Axes>"
            ]
          },
          "metadata": {
            "tags": [],
            "needs_background": "light"
          }
        }
      ]
    },
    {
      "cell_type": "markdown",
      "metadata": {
        "id": "5l802AKHsu4e",
        "colab_type": "text"
      },
      "source": [
        "#### 3.3 Results and Visualization"
      ]
    },
    {
      "cell_type": "code",
      "metadata": {
        "id": "lhiiK1I9hsDc",
        "colab_type": "code",
        "colab": {}
      },
      "source": [
        "from sklearn.manifold import TSNE\n",
        "from sklearn.metrics import classification_report, confusion_matrix"
      ],
      "execution_count": 0,
      "outputs": []
    },
    {
      "cell_type": "code",
      "metadata": {
        "id": "xlVs-Oe58b6u",
        "colab_type": "code",
        "outputId": "4bd3dcf8-7906-431e-c64e-e89a8ec973bd",
        "colab": {
          "base_uri": "https://localhost:8080/",
          "height": 283
        }
      },
      "source": [
        "# Do not modify this cell\n",
        "y_pred = NN_p3.predict(data_train_scaled)\n",
        "y_pred_class = np.where(y_pred>=0.5, 1, 0)\n",
        "\n",
        "X_embedded = TSNE(n_components=2).fit_transform(data_train_scaled)\n",
        "plt.scatter(X_embedded[:,0], X_embedded[:,1], c=y_pred, cmap=\"coolwarm\", alpha=0.3, linewidth=0, s=80)"
      ],
      "execution_count": 0,
      "outputs": [
        {
          "output_type": "execute_result",
          "data": {
            "text/plain": [
              "<matplotlib.collections.PathCollection at 0x7f43d02c8c50>"
            ]
          },
          "metadata": {
            "tags": []
          },
          "execution_count": 534
        },
        {
          "output_type": "display_data",
          "data": {
            "image/png": "[encoded data removed]",
            "text/plain": [
              "<Figure size 432x288 with 1 Axes>"
            ]
          },
          "metadata": {
            "tags": [],
            "needs_background": "light"
          }
        }
      ]
    },
    {
      "cell_type": "markdown",
      "metadata": {
        "id": "shenox5QoP1b",
        "colab_type": "text"
      },
      "source": [
        "**My comments**\n",
        "+ As  use the correct MinMaxscale so it is clear for the model to distinguish the labels and est how the accurate."
      ]
    },
    {
      "cell_type": "code",
      "metadata": {
        "id": "JweRFreGhsAE",
        "colab_type": "code",
        "outputId": "b46b6656-4829-4b22-9b3a-b52d5c3d5df7",
        "colab": {
          "base_uri": "https://localhost:8080/",
          "height": 177
        }
      },
      "source": [
        "y_pred = NN_p3.predict(data_test_scaled)\n",
        "y_pred_class = np.where(y_pred>=0.5, 1, 0)\n",
        "print(classification_report(target_test, y_pred_class))"
      ],
      "execution_count": 0,
      "outputs": [
        {
          "output_type": "stream",
          "text": [
            "              precision    recall  f1-score   support\n",
            "\n",
            "           0       0.93      0.93      0.93        45\n",
            "           1       0.95      0.95      0.95        55\n",
            "\n",
            "    accuracy                           0.94       100\n",
            "   macro avg       0.94      0.94      0.94       100\n",
            "weighted avg       0.94      0.94      0.94       100\n",
            "\n"
          ],
          "name": "stdout"
        }
      ]
    },
    {
      "cell_type": "markdown",
      "metadata": {
        "id": "fxxNp-1govPp",
        "colab_type": "text"
      },
      "source": [
        "**My comments**\n",
        "\n",
        "+  The accuracy is 0.94 .\n",
        "Got the same % accuracy after run more than 5 times.\n",
        "\n",
        "\n",
        "+ In most cases, the recall and precision is corelated to each other, if we want to get a higher recall rate, we need to expand our search area which will of course make the accuracy lower\n",
        "\n",
        "\n",
        "\n"
      ]
    },
    {
      "cell_type": "code",
      "metadata": {
        "id": "AjCEPNchhr8a",
        "colab_type": "code",
        "outputId": "34f45950-c4e7-492d-cd17-340b933f0680",
        "colab": {
          "base_uri": "https://localhost:8080/",
          "height": 283
        }
      },
      "source": [
        "sns.heatmap(confusion_matrix(target_test, y_pred_class), annot=True, annot_kws={\"size\": 20}, cmap='Blues')"
      ],
      "execution_count": 0,
      "outputs": [
        {
          "output_type": "execute_result",
          "data": {
            "text/plain": [
              "<matplotlib.axes._subplots.AxesSubplot at 0x7f43d0269470>"
            ]
          },
          "metadata": {
            "tags": []
          },
          "execution_count": 536
        },
        {
          "output_type": "display_data",
          "data": {
            "image/png": "[encoded data removed]",
            "text/plain": [
              "<Figure size 432x288 with 2 Axes>"
            ]
          },
          "metadata": {
            "tags": [],
            "needs_background": "light"
          }
        }
      ]
    },
    {
      "cell_type": "markdown",
      "metadata": {
        "id": "TAeSfiq6uqOW",
        "colab_type": "text"
      },
      "source": [
        "### Phase 3: Notes\n",
        "\n",
        "Ensure that only training data is used for training the model and present your scores and results for the testing data.\n",
        "\n"
      ]
    },
    {
      "cell_type": "markdown",
      "metadata": {
        "id": "btaRcSHWyVo1",
        "colab_type": "text"
      },
      "source": [
        "### Evaluation\n",
        "\n",
        "The scores for each problem is allocated as follows:\n",
        "\n",
        "* P1: Completion of NN base class implementation - 3\n",
        "* P1: Description of Backpropagation algorithm - 1\n",
        "* P1: Successful run of Classification Tests (AND/XOR) - 3\n",
        "* P1: Observations and Inferences (Reporting) - 2\n",
        "* P1: Successful run of Regression Tests (Sine/Gaussian) - 3\n",
        "* P1: Observations and Inferences (Reporting) - 2\n",
        "* P2: Successful implementation of model improvement method:\n",
        "    * 3 methods - 9\n",
        "    * 5 methods - 9 + 1 bonus\n",
        "* P3: Successful implementation of Breast Cancer Dataset - 3\n",
        "* P3: Observations and Inferences (Reporting) - 2\n",
        "* P3: Accuracy for Breast Cancer test data:\n",
        "    * Accuracy < 90% (or not obtained) - 0\n",
        "    * Accuracy >=90%, < 95% - 1\n",
        "    * Accuracy >=95%, < 98% - 2\n",
        "    * Accuracy >=98% - 2 + 1 bonus\n",
        "\n",
        "The final score will be clipped to a maximum of 30\n",
        "\n",
        "\n"
      ]
    },
    {
      "cell_type": "markdown",
      "metadata": {
        "id": "DkDYxuf_1YUl",
        "colab_type": "text"
      },
      "source": [
        "If you notice bugs in the above code or have suggestions to improve the content please contact Sivam Pillai (s.pillai@u.nus.edu)\n",
        "\n",
        "---\n",
        "\n",
        "END OF THE NOTEBOOK. WISH YOU ALL THE BEST\n",
        "\n",
        "---"
      ]
    }
  ]
}